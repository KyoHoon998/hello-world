{
  "nbformat": 4,
  "nbformat_minor": 0,
  "metadata": {
    "colab": {
      "name": "dataset.ipynb",
      "provenance": [],
      "include_colab_link": true
    },
    "kernelspec": {
      "name": "python3",
      "display_name": "Python 3"
    }
  },
  "cells": [
    {
      "cell_type": "markdown",
      "metadata": {
        "id": "view-in-github",
        "colab_type": "text"
      },
      "source": [
        "<a href=\"https://colab.research.google.com/github/KyoHoon998/hello-world/blob/master/dataset.ipynb\" target=\"_parent\"><img src=\"https://colab.research.google.com/assets/colab-badge.svg\" alt=\"Open In Colab\"/></a>"
      ]
    },
    {
      "cell_type": "markdown",
      "metadata": {
        "id": "eMo2YtiuoRVB",
        "colab_type": "text"
      },
      "source": [
        "## GDB-11 Data set\n",
        "\n",
        "GDB-11 은 간단한 화학적 안정성과 합성 타당성을 따르는 작은 유기화학물 ( C, N, O, F 를 최대 11개 까지 가지는) 분자를 열거 한 data set 입니다. Drug discovery에서 GDB의 잠재력은 kinase inhibitors, \n",
        "G protein-coupled receptor, ion-channel modulators 에 대한 가상 스크린을 보여 준다.\n",
        "\n",
        "\n",
        "kinase inhibitors : small molecule kinase inhibitor은 신호전달경로\n",
        "를 표적으로 하므로 넓은 의미로는 신호전달경로 억제제라고 한다. 소분자 키나제 억제제는 모두 경구제로서, 2001년 최초로 승인된 BCR-Abl 티로신 키나제 억제제인 imatinib (글리벡, GleevecⓇ)이 만성 골수성 백혈병 환자에게 탁월한 임상 효과를 보인다고한다.\n",
        "\n",
        "G protein-coupled receptor : 세포 외의 다양\n",
        "한 신호에 반응하여 세포 내 신호전달을 매개하는 막단백질\n",
        "로서 인간에는 약 790여개가 존재한다고 알려져 있다. 생체\n",
        "내 여러 기관에서 그 생리 작용을 조절하고 있고, chemical\n",
        "에 의해 활성 조절이 용이하기 때문에 GPCR은 매우 훌륭한\n",
        "drug target으로 각광을 받아 왔다.\n",
        "\n",
        "ion-channel modulators : 이온 통로를 조절하는 약물의 한 유형이다."
      ]
    },
    {
      "cell_type": "code",
      "metadata": {
        "id": "fd6S98mWri4Y",
        "colab_type": "code",
        "colab": {}
      },
      "source": [
        "\n",
        "\n"
      ],
      "execution_count": 0,
      "outputs": []
    }
  ]
}