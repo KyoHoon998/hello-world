{
  "nbformat": 4,
  "nbformat_minor": 0,
  "metadata": {
    "colab": {
      "name": "SMILES DATA SET.ipynb",
      "provenance": [],
      "include_colab_link": true
    },
    "kernelspec": {
      "name": "python3",
      "display_name": "Python 3"
    }
  },
  "cells": [
    {
      "cell_type": "markdown",
      "metadata": {
        "id": "view-in-github",
        "colab_type": "text"
      },
      "source": [
        "<a href=\"https://colab.research.google.com/github/KyoHoon998/hello-world/blob/master/SMILES_DATA_SET.ipynb\" target=\"_parent\"><img src=\"https://colab.research.google.com/assets/colab-badge.svg\" alt=\"Open In Colab\"/></a>"
      ]
    },
    {
      "cell_type": "code",
      "metadata": {
        "id": "PDI4eNrW2pf0",
        "colab_type": "code",
        "colab": {}
      },
      "source": [
        ""
      ],
      "execution_count": 0,
      "outputs": []
    },
    {
      "cell_type": "markdown",
      "metadata": {
        "id": "pUju9Z-n3DCl",
        "colab_type": "text"
      },
      "source": [
        "##6. SMILES DATA SET\n",
        "\n",
        "지금부터는 저희가 사용하려는 Data Base 들에 대한 자료를 소개하겠습니다.\n",
        "Data Base 는 http://moleculenet.ai/datasets-1 에서 찾았으며, 이 곳에서 SIDER 라는 Data set을 사용하겠습니다. 이 Data set은  인체내의 27개의 장기에 대한 시판 약물과 부작용의 Data set 입니다. 이 Data Set을 사용하여 모델을 학습시킬 예정입니다.\n",
        "\n"
      ]
    }
  ]
}