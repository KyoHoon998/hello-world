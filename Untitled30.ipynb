{
  "nbformat": 4,
  "nbformat_minor": 0,
  "metadata": {
    "colab": {
      "name": "Untitled30.ipynb",
      "provenance": [],
      "include_colab_link": true
    },
    "kernelspec": {
      "name": "python3",
      "display_name": "Python 3"
    }
  },
  "cells": [
    {
      "cell_type": "markdown",
      "metadata": {
        "id": "view-in-github",
        "colab_type": "text"
      },
      "source": [
        "<a href=\"https://colab.research.google.com/github/KyoHoon998/hello-world/blob/master/Untitled30.ipynb\" target=\"_parent\"><img src=\"https://colab.research.google.com/assets/colab-badge.svg\" alt=\"Open In Colab\"/></a>"
      ]
    },
    {
      "cell_type": "code",
      "metadata": {
        "id": "ElpKgCA_YquQ",
        "colab_type": "code",
        "outputId": "3a1a5010-1820-4784-d192-d8d0b039c749",
        "colab": {
          "base_uri": "https://localhost:8080/",
          "height": 301
        }
      },
      "source": [
        "P = 70 #kpa\n",
        "import matplotlib as mpl\n",
        "import matplotlib.pyplot as plt\n",
        "import numpy as np\n",
        "import sympy\n",
        "import math\n",
        "\n",
        "x = np.linspce(0,1,100)\n",
        "\n",
        "\n",
        "fig, ax = plt.subplots()\n",
        "\n",
        "ax.plot(np.linspace(0,1),np.linspace(0,1),c='black',label= 'y = x' )\n",
        "ax.axis([0,1,0,1])\n",
        "y_eq = (2.909 * x) / (1+(1.909)*x)\n",
        "y_top = 0.575*x + 0.424\n",
        "y_bottom = 1.47*x - 0.0235\n",
        "\n",
        "\n",
        "\n",
        "ax.plot(x, y_eq, color=\"blue\")\n",
        "ax.plot([0.5,0.998],[0.7115, 0.998] , color=\"red\" )\n",
        "ax.plot([0.5,0.5],[0.5 , 0.7115], color = \"red\")\n",
        "ax.plot([0.05,0.5],[0.05,0.7115], color = \"red\")\n",
        "\n",
        "ax.set_xlabel(\"x\")\n",
        "ax.set_ylabel(\"y\")\n",
        "\n",
        "\n",
        "\n",
        "\n",
        "\n"
      ],
      "execution_count": 0,
      "outputs": [
        {
          "output_type": "execute_result",
          "data": {
            "text/plain": [
              "Text(0, 0.5, 'y')"
            ]
          },
          "metadata": {
            "tags": []
          },
          "execution_count": 30
        },
        {
          "output_type": "display_data",
          "data": {
            "image/png": "[encoded data removed]",
            "text/plain": [
              "<Figure size 432x288 with 1 Axes>"
            ]
          },
          "metadata": {
            "tags": []
          }
        }
      ]
    },
    {
      "cell_type": "code",
      "metadata": {
        "id": "dejwaw0iqU16",
        "colab_type": "code",
        "colab": {}
      },
      "source": [
        "starting_point = [0.998,0.998]\n",
        "plt.axhline(y = starting_point[1], xmin = starting_point[0], xmax = starting_point[0],\\\n",
        "            c='gray',linestyle='dashed',label='Tray Insertions')\n",
        "\n",
        "\n",
        "equilibrium_curve_x_fraction = [0, 0.1424 , 0.3184 , 0.5156, 0.7378, 1]\n",
        "equilibrium_curve_y_fraction = [0, 0.2401, 0.4742, 0.6759, 0.8484, 1]\n",
        "\n",
        "tray_count = 0\n",
        "while starting_point[0] > 0.05:\n",
        "    left_pt = np.interp(starting_point[1], equilibrium_curve_x_fraction, equilibrium_curve_y_fraction)\n",
        "    plt.axhline(y = starting_point[1], xmin = left_pt, xmax = starting_point[0],c='gray',linestyle='dashed')\n",
        "    if left_pt>0.5:\n",
        "        bottom_pt = np.interp(left_pt, [0.5, 0.998],[0.575*0.5+0.424, 0.575*0.998+0.424])\n",
        "        plt.axvline(x = left_pt, ymin = bottom_pt, ymax = starting_point[1],c='gray',linestyle='dashed')\n",
        "    else:\n",
        "        bottom_pt = np.interp(left_pt, [0.05, 0.5],[0.05 ,b0.575*0.5+0.424])\n",
        "        plt.axvline(x = left_pt, ymin = bottom_pt, ymax = starting_point[1],c='gray',linestyle='dashed')\n",
        "    tray_count+=1\n",
        "    starting_point = [left_pt, bottom_pt]\n",
        "\n",
        "\n",
        "plt.title('External McCabe-Thiele Theoretical Plot (With Trays)',fontsize=20)\n",
        "plt.legend(fontsize=14)\n",
        "plt.xlabel('Methanol Fraction',fontsize=14)\n",
        "plt.ylabel('Water Fraction',fontsize=14)\n",
        "plt.show()\n",
        "\n",
        "print('Theoretical Trays Necessary: '+str(tray_count))\n",
        "print('Estimated Column Efficiency: ' +str(round(tray_count/total_number_trays,5)))"
      ],
      "execution_count": 0,
      "outputs": []
    },
    {
      "cell_type": "code",
      "metadata": {
        "id": "6guRdQS-xZ8W",
        "colab_type": "code",
        "colab": {}
      },
      "source": [
        ""
      ],
      "execution_count": 0,
      "outputs": []
    }
  ]
}