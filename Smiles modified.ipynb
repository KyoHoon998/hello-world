{
  "nbformat": 4,
  "nbformat_minor": 0,
  "metadata": {
    "colab": {
      "name": "공학전산 보고서",
      "provenance": [],
      "collapsed_sections": [
        "_FejRWp-j5Pa"
      ],
      "machine_shape": "hm"
    },
    "kernelspec": {
      "name": "python3",
      "display_name": "Python 3"
    },
    "accelerator": "GPU"
  },
  "cells": [
    {
      "cell_type": "markdown",
      "metadata": {
        "id": "um_YY3yt7jVg",
        "colab_type": "text"
      },
      "source": [
        "조원 : 17101595 유순영, 14108307 구교훈, 15108382 임영준"
      ]
    },
    {
      "cell_type": "markdown",
      "metadata": {
        "id": "yCGO8kJ0wDf-",
        "colab_type": "text"
      },
      "source": [
        "# **Ⅰ. SMILES(Simplified Molecular Input Line Entry System)**\n",
        "## **1. SMILES의 정의**\n",
        "SMILES(Simplified Molecular Input Line Entry System)은 화학물질의 구조를 짧은 ASCII를 이용하여 문자열로 나타내는 방법입니다. 즉, 화학정보학을 위해 2차원, 3차원의 구조를 가진 분자와 화학반응을 문자열로 표기한 간단한 화학 언어입니다. 그래서 적은 양의 데이터를 이용하여 화학물질을 나타낼 수 있습니다.\n",
        "\n",
        "RDkit는 화학정보학을 위한 Open-source module로 이를 다운받아야 SMILES를 사용할 수 있다. 코랩에서 아래 코드를 실행시키면 됩니다.\n",
        "\n"
      ]
    },
    {
      "cell_type": "markdown",
      "metadata": {
        "id": "_FejRWp-j5Pa",
        "colab_type": "text"
      },
      "source": [
        "#### RDkit 다운코드"
      ]
    },
    {
      "cell_type": "code",
      "metadata": {
        "id": "m8nEeLqdvBKQ",
        "colab_type": "code",
        "outputId": "9a360f9f-b338-49e1-970e-287075604202",
        "colab": {
          "base_uri": "https://localhost:8080/",
          "height": 1000
        }
      },
      "source": [
        "!wget -c https://repo.continuum.io/miniconda/Miniconda3-latest-Linux-x86_64.sh\n",
        "!chmod +x Miniconda3-latest-Linux-x86_64.sh\n",
        "!time bash ./Miniconda3-latest-Linux-x86_64.sh -b -f -p /usr/local\n",
        "!time conda install -q -y -c conda-forge rdkit"
      ],
      "execution_count": 0,
      "outputs": [
        {
          "output_type": "stream",
          "text": [
            "--2019-12-14 04:50:09--  https://repo.continuum.io/miniconda/Miniconda3-latest-Linux-x86_64.sh\n",
            "Resolving repo.continuum.io (repo.continuum.io)... 104.18.200.79, 104.18.201.79, 2606:4700::6812:c94f, ...\n",
            "Connecting to repo.continuum.io (repo.continuum.io)|104.18.200.79|:443... connected.\n",
            "HTTP request sent, awaiting response... 200 OK\n",
            "Length: 71785000 (68M) [application/x-sh]\n",
            "Saving to: ‘Miniconda3-latest-Linux-x86_64.sh’\n",
            "\n",
            "\r          Miniconda   0%[                    ]       0  --.-KB/s               \r         Miniconda3  64%[===========>        ]  43.93M   220MB/s               \rMiniconda3-latest-L 100%[===================>]  68.46M   210MB/s    in 0.3s    \n",
            "\n",
            "2019-12-14 04:50:09 (210 MB/s) - ‘Miniconda3-latest-Linux-x86_64.sh’ saved [71785000/71785000]\n",
            "\n",
            "PREFIX=/usr/local\n",
            "Unpacking payload ...\n",
            "Collecting package metadata (current_repodata.json): - \b\b\\ \b\bdone\n",
            "Solving environment: / \b\b- \b\bdone\n",
            "\n",
            "## Package Plan ##\n",
            "\n",
            "  environment location: /usr/local\n",
            "\n",
            "  added / updated specs:\n",
            "    - _libgcc_mutex==0.1=main\n",
            "    - asn1crypto==1.2.0=py37_0\n",
            "    - ca-certificates==2019.10.16=0\n",
            "    - certifi==2019.9.11=py37_0\n",
            "    - cffi==1.13.0=py37h2e261b9_0\n",
            "    - chardet==3.0.4=py37_1003\n",
            "    - conda-package-handling==1.6.0=py37h7b6447c_0\n",
            "    - conda==4.7.12=py37_0\n",
            "    - cryptography==2.8=py37h1ba5d50_0\n",
            "    - idna==2.8=py37_0\n",
            "    - libedit==3.1.20181209=hc058e9b_0\n",
            "    - libffi==3.2.1=hd88cf55_4\n",
            "    - libgcc-ng==9.1.0=hdf63c60_0\n",
            "    - libstdcxx-ng==9.1.0=hdf63c60_0\n",
            "    - ncurses==6.1=he6710b0_1\n",
            "    - openssl==1.1.1d=h7b6447c_3\n",
            "    - pip==19.3.1=py37_0\n",
            "    - pycosat==0.6.3=py37h14c3975_0\n",
            "    - pycparser==2.19=py37_0\n",
            "    - pyopenssl==19.0.0=py37_0\n",
            "    - pysocks==1.7.1=py37_0\n",
            "    - python==3.7.4=h265db76_1\n",
            "    - readline==7.0=h7b6447c_5\n",
            "    - requests==2.22.0=py37_0\n",
            "    - ruamel_yaml==0.15.46=py37h14c3975_0\n",
            "    - setuptools==41.4.0=py37_0\n",
            "    - six==1.12.0=py37_0\n",
            "    - sqlite==3.30.0=h7b6447c_0\n",
            "    - tk==8.6.8=hbc83047_0\n",
            "    - tqdm==4.36.1=py_0\n",
            "    - urllib3==1.24.2=py37_0\n",
            "    - wheel==0.33.6=py37_0\n",
            "    - xz==5.2.4=h14c3975_4\n",
            "    - yaml==0.1.7=had09818_2\n",
            "    - zlib==1.2.11=h7b6447c_3\n",
            "\n",
            "\n",
            "The following NEW packages will be INSTALLED:\n",
            "\n",
            "  _libgcc_mutex      pkgs/main/linux-64::_libgcc_mutex-0.1-main\n",
            "  asn1crypto         pkgs/main/linux-64::asn1crypto-1.2.0-py37_0\n",
            "  ca-certificates    pkgs/main/linux-64::ca-certificates-2019.10.16-0\n",
            "  certifi            pkgs/main/linux-64::certifi-2019.9.11-py37_0\n",
            "  cffi               pkgs/main/linux-64::cffi-1.13.0-py37h2e261b9_0\n",
            "  chardet            pkgs/main/linux-64::chardet-3.0.4-py37_1003\n",
            "  conda              pkgs/main/linux-64::conda-4.7.12-py37_0\n",
            "  conda-package-han~ pkgs/main/linux-64::conda-package-handling-1.6.0-py37h7b6447c_0\n",
            "  cryptography       pkgs/main/linux-64::cryptography-2.8-py37h1ba5d50_0\n",
            "  idna               pkgs/main/linux-64::idna-2.8-py37_0\n",
            "  libedit            pkgs/main/linux-64::libedit-3.1.20181209-hc058e9b_0\n",
            "  libffi             pkgs/main/linux-64::libffi-3.2.1-hd88cf55_4\n",
            "  libgcc-ng          pkgs/main/linux-64::libgcc-ng-9.1.0-hdf63c60_0\n",
            "  libstdcxx-ng       pkgs/main/linux-64::libstdcxx-ng-9.1.0-hdf63c60_0\n",
            "  ncurses            pkgs/main/linux-64::ncurses-6.1-he6710b0_1\n",
            "  openssl            pkgs/main/linux-64::openssl-1.1.1d-h7b6447c_3\n",
            "  pip                pkgs/main/linux-64::pip-19.3.1-py37_0\n",
            "  pycosat            pkgs/main/linux-64::pycosat-0.6.3-py37h14c3975_0\n",
            "  pycparser          pkgs/main/linux-64::pycparser-2.19-py37_0\n",
            "  pyopenssl          pkgs/main/linux-64::pyopenssl-19.0.0-py37_0\n",
            "  pysocks            pkgs/main/linux-64::pysocks-1.7.1-py37_0\n",
            "  python             pkgs/main/linux-64::python-3.7.4-h265db76_1\n",
            "  readline           pkgs/main/linux-64::readline-7.0-h7b6447c_5\n",
            "  requests           pkgs/main/linux-64::requests-2.22.0-py37_0\n",
            "  ruamel_yaml        pkgs/main/linux-64::ruamel_yaml-0.15.46-py37h14c3975_0\n",
            "  setuptools         pkgs/main/linux-64::setuptools-41.4.0-py37_0\n",
            "  six                pkgs/main/linux-64::six-1.12.0-py37_0\n",
            "  sqlite             pkgs/main/linux-64::sqlite-3.30.0-h7b6447c_0\n",
            "  tk                 pkgs/main/linux-64::tk-8.6.8-hbc83047_0\n",
            "  tqdm               pkgs/main/noarch::tqdm-4.36.1-py_0\n",
            "  urllib3            pkgs/main/linux-64::urllib3-1.24.2-py37_0\n",
            "  wheel              pkgs/main/linux-64::wheel-0.33.6-py37_0\n",
            "  xz                 pkgs/main/linux-64::xz-5.2.4-h14c3975_4\n",
            "  yaml               pkgs/main/linux-64::yaml-0.1.7-had09818_2\n",
            "  zlib               pkgs/main/linux-64::zlib-1.2.11-h7b6447c_3\n",
            "\n",
            "\n",
            "Preparing transaction: | \b\b/ \b\b- \b\b\\ \b\bdone\n",
            "Executing transaction: / \b\b- \b\b\\ \b\b| \b\b/ \b\b- \b\b\\ \b\b| \b\b/ \b\b- \b\b\\ \b\bdone\n",
            "installation finished.\n",
            "WARNING:\n",
            "    You currently have a PYTHONPATH environment variable set. This may cause\n",
            "    unexpected behavior when running the Python interpreter in Miniconda3.\n",
            "    For best results, please verify that your PYTHONPATH only points to\n",
            "    directories of packages that are compatible with the Python interpreter\n",
            "    in Miniconda3: /usr/local\n",
            "\n",
            "real\t0m14.534s\n",
            "user\t0m8.578s\n",
            "sys\t0m3.669s\n",
            "Collecting package metadata (current_repodata.json): ...working... done\n",
            "Solving environment: ...working... done\n",
            "\n",
            "## Package Plan ##\n",
            "\n",
            "  environment location: /usr/local\n",
            "\n",
            "  added / updated specs:\n",
            "    - rdkit\n",
            "\n",
            "\n",
            "The following packages will be downloaded:\n",
            "\n",
            "    package                    |            build\n",
            "    ---------------------------|-----------------\n",
            "    boost-1.70.0               |   py37h9de70de_1         337 KB  conda-forge\n",
            "    boost-cpp-1.70.0           |       h8e57a91_2        21.1 MB  conda-forge\n",
            "    bzip2-1.0.8                |       h516909a_2         396 KB  conda-forge\n",
            "    ca-certificates-2019.11.28 |       hecc5488_0         145 KB  conda-forge\n",
            "    cairo-1.16.0               |    hfb77d84_1002         1.5 MB  conda-forge\n",
            "    certifi-2019.11.28         |           py37_0         148 KB  conda-forge\n",
            "    conda-4.8.0                |           py37_0         3.0 MB  conda-forge\n",
            "    fontconfig-2.13.1          |    h86ecdb6_1001         340 KB  conda-forge\n",
            "    freetype-2.10.0            |       he983fc9_1         884 KB  conda-forge\n",
            "    gettext-0.19.8.1           |    hc5be6a0_1002         3.6 MB  conda-forge\n",
            "    glib-2.58.3                |py37h6f030ca_1002         3.3 MB  conda-forge\n",
            "    icu-64.2                   |       he1b5a44_1        12.6 MB  conda-forge\n",
            "    jpeg-9c                    |    h14c3975_1001         251 KB  conda-forge\n",
            "    libblas-3.8.0              |      14_openblas          10 KB  conda-forge\n",
            "    libcblas-3.8.0             |      14_openblas          10 KB  conda-forge\n",
            "    libgfortran-ng-7.3.0       |       hdf63c60_2         1.7 MB  conda-forge\n",
            "    libiconv-1.15              |    h516909a_1005         2.0 MB  conda-forge\n",
            "    liblapack-3.8.0            |      14_openblas          10 KB  conda-forge\n",
            "    libopenblas-0.3.7          |       h5ec1e0e_5         7.6 MB  conda-forge\n",
            "    libpng-1.6.37              |       hed695b0_0         343 KB  conda-forge\n",
            "    libtiff-4.1.0              |       hc3755c2_1         609 KB  conda-forge\n",
            "    libuuid-2.32.1             |    h14c3975_1000          26 KB  conda-forge\n",
            "    libxcb-1.13                |    h14c3975_1002         396 KB  conda-forge\n",
            "    libxml2-2.9.10             |       hee79883_0         1.3 MB  conda-forge\n",
            "    lz4-c-1.8.3                |    he1b5a44_1001         187 KB  conda-forge\n",
            "    numpy-1.17.3               |   py37h95a1406_0         5.1 MB  conda-forge\n",
            "    olefile-0.46               |             py_0          31 KB  conda-forge\n",
            "    openssl-1.1.1d             |       h516909a_0         2.1 MB  conda-forge\n",
            "    pandas-0.25.3              |   py37hb3f55d8_0        11.4 MB  conda-forge\n",
            "    pcre-8.43                  |       he1b5a44_0         257 KB  conda-forge\n",
            "    pillow-6.2.1               |   py37h34e0f95_0         643 KB\n",
            "    pixman-0.38.0              |    h516909a_1003         594 KB  conda-forge\n",
            "    pthread-stubs-0.4          |    h14c3975_1001           5 KB  conda-forge\n",
            "    pycairo-1.18.2             |   py37h438ddbb_0          77 KB  conda-forge\n",
            "    python-dateutil-2.8.1      |             py_0         220 KB  conda-forge\n",
            "    pytz-2019.3                |             py_0         237 KB  conda-forge\n",
            "    rdkit-2019.09.2            |   py37hb31dc5d_0        23.8 MB  conda-forge\n",
            "    xorg-kbproto-1.0.7         |    h14c3975_1002          26 KB  conda-forge\n",
            "    xorg-libice-1.0.10         |       h516909a_0          57 KB  conda-forge\n",
            "    xorg-libsm-1.2.3           |    h84519dc_1000          25 KB  conda-forge\n",
            "    xorg-libx11-1.6.9          |       h516909a_0         918 KB  conda-forge\n",
            "    xorg-libxau-1.0.9          |       h14c3975_0          13 KB  conda-forge\n",
            "    xorg-libxdmcp-1.1.3        |       h516909a_0          18 KB  conda-forge\n",
            "    xorg-libxext-1.3.4         |       h516909a_0          51 KB  conda-forge\n",
            "    xorg-libxrender-0.9.10     |    h516909a_1002          31 KB  conda-forge\n",
            "    xorg-renderproto-0.11.1    |    h14c3975_1002           8 KB  conda-forge\n",
            "    xorg-xextproto-7.3.0       |    h14c3975_1002          27 KB  conda-forge\n",
            "    xorg-xproto-7.0.31         |    h14c3975_1007          72 KB  conda-forge\n",
            "    zstd-1.4.4                 |       h3b9ef0a_1         989 KB  conda-forge\n",
            "    ------------------------------------------------------------\n",
            "                                           Total:       108.4 MB\n",
            "\n",
            "The following NEW packages will be INSTALLED:\n",
            "\n",
            "  boost              conda-forge/linux-64::boost-1.70.0-py37h9de70de_1\n",
            "  boost-cpp          conda-forge/linux-64::boost-cpp-1.70.0-h8e57a91_2\n",
            "  bzip2              conda-forge/linux-64::bzip2-1.0.8-h516909a_2\n",
            "  cairo              conda-forge/linux-64::cairo-1.16.0-hfb77d84_1002\n",
            "  fontconfig         conda-forge/linux-64::fontconfig-2.13.1-h86ecdb6_1001\n",
            "  freetype           conda-forge/linux-64::freetype-2.10.0-he983fc9_1\n",
            "  gettext            conda-forge/linux-64::gettext-0.19.8.1-hc5be6a0_1002\n",
            "  glib               conda-forge/linux-64::glib-2.58.3-py37h6f030ca_1002\n",
            "  icu                conda-forge/linux-64::icu-64.2-he1b5a44_1\n",
            "  jpeg               conda-forge/linux-64::jpeg-9c-h14c3975_1001\n",
            "  libblas            conda-forge/linux-64::libblas-3.8.0-14_openblas\n",
            "  libcblas           conda-forge/linux-64::libcblas-3.8.0-14_openblas\n",
            "  libgfortran-ng     conda-forge/linux-64::libgfortran-ng-7.3.0-hdf63c60_2\n",
            "  libiconv           conda-forge/linux-64::libiconv-1.15-h516909a_1005\n",
            "  liblapack          conda-forge/linux-64::liblapack-3.8.0-14_openblas\n",
            "  libopenblas        conda-forge/linux-64::libopenblas-0.3.7-h5ec1e0e_5\n",
            "  libpng             conda-forge/linux-64::libpng-1.6.37-hed695b0_0\n",
            "  libtiff            conda-forge/linux-64::libtiff-4.1.0-hc3755c2_1\n",
            "  libuuid            conda-forge/linux-64::libuuid-2.32.1-h14c3975_1000\n",
            "  libxcb             conda-forge/linux-64::libxcb-1.13-h14c3975_1002\n",
            "  libxml2            conda-forge/linux-64::libxml2-2.9.10-hee79883_0\n",
            "  lz4-c              conda-forge/linux-64::lz4-c-1.8.3-he1b5a44_1001\n",
            "  numpy              conda-forge/linux-64::numpy-1.17.3-py37h95a1406_0\n",
            "  olefile            conda-forge/noarch::olefile-0.46-py_0\n",
            "  pandas             conda-forge/linux-64::pandas-0.25.3-py37hb3f55d8_0\n",
            "  pcre               conda-forge/linux-64::pcre-8.43-he1b5a44_0\n",
            "  pillow             pkgs/main/linux-64::pillow-6.2.1-py37h34e0f95_0\n",
            "  pixman             conda-forge/linux-64::pixman-0.38.0-h516909a_1003\n",
            "  pthread-stubs      conda-forge/linux-64::pthread-stubs-0.4-h14c3975_1001\n",
            "  pycairo            conda-forge/linux-64::pycairo-1.18.2-py37h438ddbb_0\n",
            "  python-dateutil    conda-forge/noarch::python-dateutil-2.8.1-py_0\n",
            "  pytz               conda-forge/noarch::pytz-2019.3-py_0\n",
            "  rdkit              conda-forge/linux-64::rdkit-2019.09.2-py37hb31dc5d_0\n",
            "  xorg-kbproto       conda-forge/linux-64::xorg-kbproto-1.0.7-h14c3975_1002\n",
            "  xorg-libice        conda-forge/linux-64::xorg-libice-1.0.10-h516909a_0\n",
            "  xorg-libsm         conda-forge/linux-64::xorg-libsm-1.2.3-h84519dc_1000\n",
            "  xorg-libx11        conda-forge/linux-64::xorg-libx11-1.6.9-h516909a_0\n",
            "  xorg-libxau        conda-forge/linux-64::xorg-libxau-1.0.9-h14c3975_0\n",
            "  xorg-libxdmcp      conda-forge/linux-64::xorg-libxdmcp-1.1.3-h516909a_0\n",
            "  xorg-libxext       conda-forge/linux-64::xorg-libxext-1.3.4-h516909a_0\n",
            "  xorg-libxrender    conda-forge/linux-64::xorg-libxrender-0.9.10-h516909a_1002\n",
            "  xorg-renderproto   conda-forge/linux-64::xorg-renderproto-0.11.1-h14c3975_1002\n",
            "  xorg-xextproto     conda-forge/linux-64::xorg-xextproto-7.3.0-h14c3975_1002\n",
            "  xorg-xproto        conda-forge/linux-64::xorg-xproto-7.0.31-h14c3975_1007\n",
            "  zstd               conda-forge/linux-64::zstd-1.4.4-h3b9ef0a_1\n",
            "\n",
            "The following packages will be UPDATED:\n",
            "\n",
            "  ca-certificates    pkgs/main::ca-certificates-2019.10.16~ --> conda-forge::ca-certificates-2019.11.28-hecc5488_0\n",
            "  certifi               pkgs/main::certifi-2019.9.11-py37_0 --> conda-forge::certifi-2019.11.28-py37_0\n",
            "  conda                      pkgs/main::conda-4.7.12-py37_0 --> conda-forge::conda-4.8.0-py37_0\n",
            "\n",
            "The following packages will be SUPERSEDED by a higher-priority channel:\n",
            "\n",
            "  openssl              pkgs/main::openssl-1.1.1d-h7b6447c_3 --> conda-forge::openssl-1.1.1d-h516909a_0\n",
            "\n",
            "\n",
            "Preparing transaction: ...working... done\n",
            "Verifying transaction: ...working... done\n",
            "Executing transaction: ...working... done\n",
            "\n",
            "real\t0m42.050s\n",
            "user\t0m36.220s\n",
            "sys\t0m4.399s\n"
          ],
          "name": "stdout"
        }
      ]
    },
    {
      "cell_type": "code",
      "metadata": {
        "id": "9ujtZMyN42fI",
        "colab_type": "code",
        "colab": {}
      },
      "source": [
        "%matplotlib inline\n",
        "import matplotlib.pyplot as plt\n",
        "import sys\n",
        "import os\n",
        "sys.path.append('/usr/local/lib/python3.7/site-packages/')"
      ],
      "execution_count": 0,
      "outputs": []
    },
    {
      "cell_type": "markdown",
      "metadata": {
        "id": "BfmSL4xRkKvK",
        "colab_type": "text"
      },
      "source": [
        "#### RDkit import"
      ]
    },
    {
      "cell_type": "code",
      "metadata": {
        "id": "3DKV9kv95B_M",
        "colab_type": "code",
        "colab": {}
      },
      "source": [
        "from __future__ import print_function\n",
        "from rdkit import Chem\n",
        "from rdkit.Chem import AllChem\n",
        "from rdkit.Chem.Draw import IPythonConsole\n",
        "from rdkit.Chem import Draw"
      ],
      "execution_count": 0,
      "outputs": []
    },
    {
      "cell_type": "markdown",
      "metadata": {
        "id": "0AiTV3WMwAwx",
        "colab_type": "text"
      },
      "source": [
        "위의 Draw는 Python에서 SMILES로 표현한 화학물질을 Output에서 그림으로 출력하게 하는 함수입니다. Draw 함수를 import하지 않으면 SMILES의 저장 위치가 출력됩니다. 그래서 \n",
        "밑에서 두 번째까지의 코드를 default 하겠습니다. 또한 화학적으로 불가능한 화합물의 경우 출력이 되지 않습니다.\n",
        "\n",
        "**SMILES의 활용 분야**\n",
        "  - 데이터베이스 접근의 키\n",
        "  - 연구자들의 화학정보 변환 메커니즘\n",
        "  - 화학 데이터 입력 시스템\n",
        "  - 화학 시스템이나 AI를 위한 언어"
      ]
    },
    {
      "cell_type": "markdown",
      "metadata": {
        "id": "s4uKWDRf7rk4",
        "colab_type": "text"
      },
      "source": [
        "## **2. 정규화(Canonicalization)**\n",
        "분자를 묘사하기 위한 2차원의 그림입니다. 원자와 결합에 대해서만  나타낸 SMILES을 'generic SMILES'라고 합니다. 일반적으로 하나의 화학물질에 대해 결과값은 동일하지만 다양한 SMILES로 입력할 수 있습니다."
      ]
    },
    {
      "cell_type": "code",
      "metadata": {
        "id": "c4gt08Oz6rwH",
        "colab_type": "code",
        "colab": {}
      },
      "source": [
        "a = Chem.MolFromSmiles('OCN')"
      ],
      "execution_count": 0,
      "outputs": []
    },
    {
      "cell_type": "code",
      "metadata": {
        "id": "zAosamwABB5g",
        "colab_type": "code",
        "outputId": "75dde86f-4ece-429c-9010-8a14127a20fa",
        "colab": {
          "base_uri": "https://localhost:8080/",
          "height": 34
        }
      },
      "source": [
        "Chem.MolToSmiles(Chem.MolFromSmiles('OCN'))"
      ],
      "execution_count": 0,
      "outputs": [
        {
          "output_type": "execute_result",
          "data": {
            "text/plain": [
              "'NCO'"
            ]
          },
          "metadata": {
            "tags": []
          },
          "execution_count": 5
        }
      ]
    },
    {
      "cell_type": "code",
      "metadata": {
        "id": "u5abrBf7BDjz",
        "colab_type": "code",
        "outputId": "665ead5a-cadb-42f5-9fd4-6e3925f4f9f1",
        "colab": {
          "base_uri": "https://localhost:8080/",
          "height": 34
        }
      },
      "source": [
        "Chem.MolToSmiles(Chem.MolFromSmiles('N-C-O'))"
      ],
      "execution_count": 0,
      "outputs": [
        {
          "output_type": "execute_result",
          "data": {
            "text/plain": [
              "'NCO'"
            ]
          },
          "metadata": {
            "tags": []
          },
          "execution_count": 6
        }
      ]
    },
    {
      "cell_type": "code",
      "metadata": {
        "id": "BU5E5RudBFIZ",
        "colab_type": "code",
        "outputId": "e8ed7e3f-201a-45ca-eaf9-adcbe69c570e",
        "colab": {
          "base_uri": "https://localhost:8080/",
          "height": 167
        }
      },
      "source": [
        "a"
      ],
      "execution_count": 0,
      "outputs": [
        {
          "output_type": "execute_result",
          "data": {
            "image/png": "[encoded data removed]",
            "text/plain": [
              "<rdkit.Chem.rdchem.Mol at 0x7fbc25a0d760>"
            ]
          },
          "metadata": {
            "tags": []
          },
          "execution_count": 7
        }
      ]
    },
    {
      "cell_type": "markdown",
      "metadata": {
        "id": "_45P5iQIB456",
        "colab_type": "text"
      },
      "source": [
        "SMILES를 다르게 입력하더라도 결과값은 동일합니다.\n",
        "\n",
        "\n",
        "따라서 어떤 SMILES 을 입력하더라도 유일하게 자체적으로 하나의 SMILES으로 처리하는 것을 ‘unique SMILES'이라 하고 이를 형성하기 위한 알고리즘이 존재합니다.\n",
        "동위원소, 카이랄을 표현하기위한 SMILES를 'isomeric SMILES'이라 합니다. unique SMILES와 isomeric SMILES가 합해진 형태를 'absolute SMILES'이라 합니다.\n",
        "\n",
        "일반적으로 주어진 구조를 나타내는 SMILES구조가 많이 있는데, 모든 유효한 가능성 중에서 하나의 특별한 일반 SMILES를 생성하기 위해 canonical 알고리즘이 존재합니다. 이 특별한 SMILES는 \"unique SMILES\"로 알려져 있습니다. 일반적인 규칙을 따르는 form을 canonical form이라고 생각할 수 있습니다.\n",
        "\n"
      ]
    },
    {
      "cell_type": "markdown",
      "metadata": {
        "id": "1tx4TLEODi2w",
        "colab_type": "text"
      },
      "source": [
        "## **3. SMILES 규칙(SMILES Sepcification Rules)**\n",
        "- SMILES는 띄어쓰기를 사용하지 않고 원자들을 일렬로 나열하여 표현합니다.\n",
        "- 수소원자는 생략하거나, 포함해도 됩니다.\n",
        "- 방향족 물질들은 직관적으로 명시하거나 Kekulé form으로 분류할 수 있습니다.\n",
        "- 대표적으로 5가지의 규칙이 있습니다. \n",
        "  1. 원자(atom) \n",
        "  2. 결합(bond)\n",
        "  3. 가지(branch)\n",
        "  4. 고리닫힘(ring closure)\n",
        "  5. 단절(disconnection) "
      ]
    },
    {
      "cell_type": "markdown",
      "metadata": {
        "id": "Axikd2E7ECLQ",
        "colab_type": "text"
      },
      "source": [
        "### **3.1 원자(atom)** \n",
        "\n",
        "- 수소를 포함하지 않는 단일원자는 [ ]사용합니다.organic subset는 [ ] 없이 쓰이기도 합니다.\n",
        "\n",
        "- 최소 원자가 전자를 갖는다고 인식합니다.\n",
        "\n",
        "      B (3), C (4), N (3,5), O (2), P (3,5), S (2,4,6), 할로겐족(1)\n",
        "\n",
        "- 지방족 탄소는 대문자 'C' 로, 방향족 탄소는 'c'로 명시합니다."
      ]
    },
    {
      "cell_type": "code",
      "metadata": {
        "id": "F8ASoWZvDW3g",
        "colab_type": "code",
        "outputId": "736c38f6-86a9-40fc-e8e7-7e482ea16106",
        "colab": {
          "base_uri": "https://localhost:8080/",
          "height": 167
        }
      },
      "source": [
        "a = Chem.MolFromSmiles('C') # 수소를 생략해도 출력값에 포함됩니다.\n",
        "a"
      ],
      "execution_count": 0,
      "outputs": [
        {
          "output_type": "execute_result",
          "data": {
            "image/png": "[encoded data removed]",
            "text/plain": [
              "<rdkit.Chem.rdchem.Mol at 0x7fbc25a19260>"
            ]
          },
          "metadata": {
            "tags": []
          },
          "execution_count": 8
        }
      ]
    },
    {
      "cell_type": "code",
      "metadata": {
        "id": "qutJF1DTEuxE",
        "colab_type": "code",
        "outputId": "6e08e6dd-7080-41ed-e015-a981fb77f7a9",
        "colab": {
          "base_uri": "https://localhost:8080/",
          "height": 167
        }
      },
      "source": [
        "a = Chem.MolFromSmiles('P')\n",
        "a"
      ],
      "execution_count": 0,
      "outputs": [
        {
          "output_type": "execute_result",
          "data": {
            "image/png": "[encoded data removed]",
            "text/plain": [
              "<rdkit.Chem.rdchem.Mol at 0x7fbc25a19350>"
            ]
          },
          "metadata": {
            "tags": []
          },
          "execution_count": 9
        }
      ]
    },
    {
      "cell_type": "markdown",
      "metadata": {
        "id": "V6m73XNqE-kT",
        "colab_type": "text"
      },
      "source": [
        "- '$[]$'속의 수소와 형식전하는 반드시 명시되어야 합니다. - 결합된 수소의 수는 H 와 숫자로 표현됩니다.\n",
        "- 형식전하는 + 혹은 - 로 표시되어야 합니다. 명시되어 있지 않으면 전하는 0으로 가정합니다.\n",
        "$[Fe++] = [Fe+2]$"
      ]
    },
    {
      "cell_type": "code",
      "metadata": {
        "id": "84B5t-aPFRO-",
        "colab_type": "code",
        "outputId": "fc535a52-266c-45aa-8ebe-aaff53483d4b",
        "colab": {
          "base_uri": "https://localhost:8080/",
          "height": 167
        }
      },
      "source": [
        "a = Chem.MolFromSmiles('[Fe++]')\n",
        "a"
      ],
      "execution_count": 0,
      "outputs": [
        {
          "output_type": "execute_result",
          "data": {
            "image/png": "[encoded data removed]",
            "text/plain": [
              "<rdkit.Chem.rdchem.Mol at 0x7fbc25a19620>"
            ]
          },
          "metadata": {
            "tags": []
          },
          "execution_count": 10
        }
      ]
    },
    {
      "cell_type": "markdown",
      "metadata": {
        "id": "J8RNZL6yFzHu",
        "colab_type": "text"
      },
      "source": [
        "### **3.2 결합(Bonds)**\n",
        "- 단일 결합은 생략하거나 '-'기호를 사용한다.\n",
        "- 이중 결합은 '='기호를 사용합니다.\n",
        "- 삼중 결합은 '#'기호를 사용합니다.\n",
        "- 방향족 결합은 생락하거나 ':'기호를 사용합니다."
      ]
    },
    {
      "cell_type": "code",
      "metadata": {
        "id": "z23vP53VH4V0",
        "colab_type": "code",
        "outputId": "3d831d50-1eec-4fda-e3d4-7be91db425e0",
        "colab": {
          "base_uri": "https://localhost:8080/",
          "height": 167
        }
      },
      "source": [
        "a  = Chem.MolFromSmiles('CC')\n",
        "a"
      ],
      "execution_count": 0,
      "outputs": [
        {
          "output_type": "execute_result",
          "data": {
            "image/png": "[encoded data removed]",
            "text/plain": [
              "<rdkit.Chem.rdchem.Mol at 0x7fbc25a19760>"
            ]
          },
          "metadata": {
            "tags": []
          },
          "execution_count": 11
        }
      ]
    },
    {
      "cell_type": "code",
      "metadata": {
        "id": "4NYNdCo1FtoQ",
        "colab_type": "code",
        "outputId": "973617be-ef52-40d8-fd12-a3ae2ce64dff",
        "colab": {
          "base_uri": "https://localhost:8080/",
          "height": 167
        }
      },
      "source": [
        "a = Chem.MolFromSmiles('O=C')\n",
        "a"
      ],
      "execution_count": 0,
      "outputs": [
        {
          "output_type": "execute_result",
          "data": {
            "image/png": "[encoded data removed]",
            "text/plain": [
              "<rdkit.Chem.rdchem.Mol at 0x7fbc25a19a80>"
            ]
          },
          "metadata": {
            "tags": []
          },
          "execution_count": 12
        }
      ]
    },
    {
      "cell_type": "code",
      "metadata": {
        "id": "BIaHE9G9F-e7",
        "colab_type": "code",
        "outputId": "b42dcad6-b3cb-4941-cac5-762e93e1ef6e",
        "colab": {
          "base_uri": "https://localhost:8080/",
          "height": 167
        }
      },
      "source": [
        "a = Chem.MolFromSmiles('C#N') \n",
        "a"
      ],
      "execution_count": 0,
      "outputs": [
        {
          "output_type": "execute_result",
          "data": {
            "image/png": "[encoded data removed]",
            "text/plain": [
              "<rdkit.Chem.rdchem.Mol at 0x7fbc25a19c60>"
            ]
          },
          "metadata": {
            "tags": []
          },
          "execution_count": 13
        }
      ]
    },
    {
      "cell_type": "markdown",
      "metadata": {
        "id": "c4ybdYO5GD5m",
        "colab_type": "text"
      },
      "source": [
        "이와 같은 규칙을 이용하여 6-hydroxy-1,4-hexadiene을 표현해보면"
      ]
    },
    {
      "cell_type": "code",
      "metadata": {
        "id": "Bl-C3jJVGC8i",
        "colab_type": "code",
        "outputId": "d29f97e2-ad30-43d4-dc3b-67c5b928e34e",
        "colab": {
          "base_uri": "https://localhost:8080/",
          "height": 167
        }
      },
      "source": [
        "a = Chem.MolFromSmiles('C=CCC=CCO')\n",
        "a"
      ],
      "execution_count": 0,
      "outputs": [
        {
          "output_type": "execute_result",
          "data": {
            "image/png": "[encoded data removed]",
            "text/plain": [
              "<rdkit.Chem.rdchem.Mol at 0x7fbc25a19f30>"
            ]
          },
          "metadata": {
            "tags": []
          },
          "execution_count": 14
        }
      ]
    },
    {
      "cell_type": "markdown",
      "metadata": {
        "id": "KwdB3dvPGP1G",
        "colab_type": "text"
      },
      "source": [
        "### **3.3 가지(Branches ; 치환기, 알킬기)**\n",
        "- 가지들은 중첩되거나 쌓일 수 있으며, 소괄호`()`로 묶어 결합 원소의 오른쪽에 써줍니다."
      ]
    },
    {
      "cell_type": "code",
      "metadata": {
        "id": "2itMd5VPGIfx",
        "colab_type": "code",
        "outputId": "de1c6462-3a09-432a-d8f2-11cedaf1eb9f",
        "colab": {
          "base_uri": "https://localhost:8080/",
          "height": 167
        }
      },
      "source": [
        "Triethylamine = Chem.MolFromSmiles('CCN(CC)CC') \n",
        "Triethylamine"
      ],
      "execution_count": 0,
      "outputs": [
        {
          "output_type": "execute_result",
          "data": {
            "image/png": "[encoded data removed]",
            "text/plain": [
              "<rdkit.Chem.rdchem.Mol at 0x7fbc25a1b080>"
            ]
          },
          "metadata": {
            "tags": []
          },
          "execution_count": 15
        }
      ]
    },
    {
      "cell_type": "code",
      "metadata": {
        "id": "pLT2GiRwIkOr",
        "colab_type": "code",
        "outputId": "b05db36e-00fa-40e4-fbd6-8a35b61a76d7",
        "colab": {
          "base_uri": "https://localhost:8080/",
          "height": 167
        }
      },
      "source": [
        "Isobutyric_acid = Chem.MolFromSmiles('CC(C)C(=O)O')\n",
        "Isobutyric_acid"
      ],
      "execution_count": 0,
      "outputs": [
        {
          "output_type": "execute_result",
          "data": {
            "image/png": "[encoded data removed]",
            "text/plain": [
              "<rdkit.Chem.rdchem.Mol at 0x7fbc25a1b2b0>"
            ]
          },
          "metadata": {
            "tags": []
          },
          "execution_count": 16
        }
      ]
    },
    {
      "cell_type": "code",
      "metadata": {
        "id": "hcOM9HxRIrog",
        "colab_type": "code",
        "outputId": "ae4e85cb-3ac7-4efe-a7ea-28b07deaf731",
        "colab": {
          "base_uri": "https://localhost:8080/",
          "height": 167
        }
      },
      "source": [
        "acetic_acid = Chem.MolFromSmiles('CC(=O)O')\n",
        "acetic_acid"
      ],
      "execution_count": 0,
      "outputs": [
        {
          "output_type": "execute_result",
          "data": {
            "image/png": "[encoded data removed]",
            "text/plain": [
              "<rdkit.Chem.rdchem.Mol at 0x7fbc25a1b3f0>"
            ]
          },
          "metadata": {
            "tags": []
          },
          "execution_count": 17
        }
      ]
    },
    {
      "cell_type": "markdown",
      "metadata": {
        "id": "2z4dmpnwI85Z",
        "colab_type": "text"
      },
      "source": [
        "### **3.4 고리구조(Cyclic Structures)**\n",
        "- 고리형 구조는 고리에서 하나의 결합을 끊어 선형적으로 표시하고, 결합을 끊은 원자 바로 뒤에 숫자를 이용해 고리형 구조를 표현합니다."
      ]
    },
    {
      "cell_type": "code",
      "metadata": {
        "id": "VRgnZI7NI7nw",
        "colab_type": "code",
        "outputId": "13c68bd3-96af-4d63-b3c4-42d8b91b5d4f",
        "colab": {
          "base_uri": "https://localhost:8080/",
          "height": 167
        }
      },
      "source": [
        "cyclopentane = Chem.MolFromSmiles('C1CCCC1')\n",
        "cyclopentane"
      ],
      "execution_count": 0,
      "outputs": [
        {
          "output_type": "execute_result",
          "data": {
            "image/png": "[encoded data removed]",
            "text/plain": [
              "<rdkit.Chem.rdchem.Mol at 0x7fbc25a1b530>"
            ]
          },
          "metadata": {
            "tags": []
          },
          "execution_count": 18
        }
      ]
    },
    {
      "cell_type": "code",
      "metadata": {
        "id": "BlLZlAesJEY6",
        "colab_type": "code",
        "outputId": "4b604044-d252-47d5-f8c8-9965860c6b07",
        "colab": {
          "base_uri": "https://localhost:8080/",
          "height": 167
        }
      },
      "source": [
        "m = Chem.MolFromSmiles('C1CCC(C)C1')\n",
        "m"
      ],
      "execution_count": 0,
      "outputs": [
        {
          "output_type": "execute_result",
          "data": {
            "image/png": "[encoded data removed]",
            "text/plain": [
              "<rdkit.Chem.rdchem.Mol at 0x7fbc25a1b6c0>"
            ]
          },
          "metadata": {
            "tags": []
          },
          "execution_count": 19
        }
      ]
    },
    {
      "cell_type": "markdown",
      "metadata": {
        "id": "k6QIk4iWJ5nO",
        "colab_type": "text"
      },
      "source": [
        "- 동일한 화학물을 여러 방법으로 표현할 수 있고, 한 가지 분자의 다양한 표현은 우선순위가 없습니다."
      ]
    },
    {
      "cell_type": "code",
      "metadata": {
        "id": "qTuG6u23KCHG",
        "colab_type": "code",
        "outputId": "22e98746-bdd2-4cd8-c474-5e3028d5ed95",
        "colab": {
          "base_uri": "https://localhost:8080/",
          "height": 167
        }
      },
      "source": [
        "mbc1 = Chem.MolFromSmiles('CC1=CC(Br)CCC1')\n",
        "mbc1"
      ],
      "execution_count": 0,
      "outputs": [
        {
          "output_type": "execute_result",
          "data": {
            "image/png": "[encoded data removed]",
            "text/plain": [
              "<rdkit.Chem.rdchem.Mol at 0x7fbc25a1b710>"
            ]
          },
          "metadata": {
            "tags": []
          },
          "execution_count": 20
        }
      ]
    },
    {
      "cell_type": "code",
      "metadata": {
        "id": "ajUlmUzLKO6E",
        "colab_type": "code",
        "outputId": "706d62b1-3959-47fb-fd05-10d05969d7f0",
        "colab": {
          "base_uri": "https://localhost:8080/",
          "height": 167
        }
      },
      "source": [
        "mbc2 = Chem.MolFromSmiles('CC1=CC(CCC1)Br')\n",
        "mbc2"
      ],
      "execution_count": 0,
      "outputs": [
        {
          "output_type": "execute_result",
          "data": {
            "image/png": "[encoded data removed]",
            "text/plain": [
              "<rdkit.Chem.rdchem.Mol at 0x7fbc25a1b8a0>"
            ]
          },
          "metadata": {
            "tags": []
          },
          "execution_count": 21
        }
      ]
    },
    {
      "cell_type": "markdown",
      "metadata": {
        "id": "catQBsM8JJS0",
        "colab_type": "text"
      },
      "source": [
        "- 한 원자는 하나 이상의 `ring closure`을 가질 수 있습니다. 아래와 같은구조로 설명할 수 있습니다."
      ]
    },
    {
      "cell_type": "code",
      "metadata": {
        "id": "aRl_YO7AJIAD",
        "colab_type": "code",
        "outputId": "40e97488-318f-469c-c683-c6ac9c2f763f",
        "colab": {
          "base_uri": "https://localhost:8080/",
          "height": 167
        }
      },
      "source": [
        "m = Chem.MolFromSmiles('O1CC(C)CCC1N1CCC(C)CC1')\n",
        "m"
      ],
      "execution_count": 0,
      "outputs": [
        {
          "output_type": "execute_result",
          "data": {
            "image/png": "[encoded data removed]",
            "text/plain": [
              "<rdkit.Chem.rdchem.Mol at 0x7fbc25a1bc60>"
            ]
          },
          "metadata": {
            "tags": []
          },
          "execution_count": 22
        }
      ]
    },
    {
      "cell_type": "markdown",
      "metadata": {
        "id": "Pi-3DzTWJOxX",
        "colab_type": "text"
      },
      "source": [
        "### **3.5 비결합 구조(Disconnected Structures)**\n",
        "- 연결되지 않은 혼합물은 ' . '을 사용하여 각각의 구조들을 분리시킵니다.\n",
        "- 이온 혹은 리간드(ligands)의 연결은 순서에 상관없이 사용가능합니다. 한 전하가 다른 전하로의 연결을 의미하는 것도 아니고, 알짜 전하를 반드시 0으로 가질 필요도 없스니다.\n",
        "- 필요에 따라, 한 이온의 SMILES이 sodium phenoxide(석탄산나트륨)와 같이 다른 이온에 삽입될 수 있습니다.\n",
        "\n"
      ]
    },
    {
      "cell_type": "code",
      "metadata": {
        "id": "l3GbUu7pJNSV",
        "colab_type": "code",
        "outputId": "33ca5c67-6e42-4798-e32d-30f3d95ca38e",
        "colab": {
          "base_uri": "https://localhost:8080/",
          "height": 167
        }
      },
      "source": [
        "m = Chem.MolFromSmiles('[Na+].[O-]c1ccccc1')\n",
        "m"
      ],
      "execution_count": 0,
      "outputs": [
        {
          "output_type": "execute_result",
          "data": {
            "image/png": "[encoded data removed]",
            "text/plain": [
              "<rdkit.Chem.rdchem.Mol at 0x7fbc25a1bd00>"
            ]
          },
          "metadata": {
            "tags": []
          },
          "execution_count": 23
        }
      ]
    },
    {
      "cell_type": "code",
      "metadata": {
        "id": "hkmq5zYpJR67",
        "colab_type": "code",
        "outputId": "943027ca-e203-4ac3-fc44-561464578706",
        "colab": {
          "base_uri": "https://localhost:8080/",
          "height": 167
        }
      },
      "source": [
        "m = Chem.MolFromSmiles('c1cc([O-].[Na+])ccc1')\n",
        "m"
      ],
      "execution_count": 0,
      "outputs": [
        {
          "output_type": "execute_result",
          "data": {
            "image/png": "[encoded data removed]",
            "text/plain": [
              "<rdkit.Chem.rdchem.Mol at 0x7fbc25a1b9e0>"
            ]
          },
          "metadata": {
            "tags": []
          },
          "execution_count": 24
        }
      ]
    },
    {
      "cell_type": "markdown",
      "metadata": {
        "id": "IRlM0Ne6POSC",
        "colab_type": "text"
      },
      "source": [
        "- 원자 명시에 따른 자릿수가 같은 쌍은 서로 결합됨을 의미합니다."
      ]
    },
    {
      "cell_type": "code",
      "metadata": {
        "id": "WRYgv92mJTK5",
        "colab_type": "code",
        "outputId": "070e2efe-f8ee-424b-924a-cf54b0cbfb36",
        "colab": {
          "base_uri": "https://localhost:8080/",
          "height": 167
        }
      },
      "source": [
        "C_C = Chem.MolFromSmiles('C1.C1')\n",
        "C_C"
      ],
      "execution_count": 0,
      "outputs": [
        {
          "output_type": "execute_result",
          "data": {
            "image/png": "[encoded data removed]",
            "text/plain": [
              "<rdkit.Chem.rdchem.Mol at 0x7fbc25a1bf80>"
            ]
          },
          "metadata": {
            "tags": []
          },
          "execution_count": 25
        }
      ]
    },
    {
      "cell_type": "markdown",
      "metadata": {
        "id": "sszGMBdaRaZi",
        "colab_type": "text"
      },
      "source": [
        "## **4. 이성질체 SMILES(Isomeric SMILES)**\n",
        "\n",
        "- 동위원소, 이중결합의 구조, 카이랄성을 규정합니다.\n",
        "- IUPAC 명명법과 CIP 명명법과는 다르게 카이랄성을 명명합니다.\n",
        "- 모든 화합물의 카이랄성이 알려져 있지는 않기 때문에, 가능한 카이랄성만을 표기합니다.\n"
      ]
    },
    {
      "cell_type": "markdown",
      "metadata": {
        "id": "ej0jB9duRd50",
        "colab_type": "text"
      },
      "source": [
        "### **4.1 동위원소(Isotopic Specification)**\n",
        "- 동위원소는 [원자량 + 원자기호] 로 표기합니다."
      ]
    },
    {
      "cell_type": "markdown",
      "metadata": {
        "id": "_8rBRbgjRiSD",
        "colab_type": "text"
      },
      "source": [
        "SMILES | Name\n",
        "---- | ----\n",
        "$[12C]$ | carbon-12\n",
        "$[13C]$ | carbon-13\n",
        "$[C]$ | carbon(unspecified mass)\n",
        "$[13CH4]$ | C-13 methane"
      ]
    },
    {
      "cell_type": "markdown",
      "metadata": {
        "id": "z8BBbSB9RkRC",
        "colab_type": "text"
      },
      "source": [
        "### **4.2 이중결합 배치(Configuration Around Double Bonds)**\n",
        "- 이중결합의 구조 이성질체는 결합의 방향을 나타내며 '/'와'\\'로 명시합니다.\n",
        "- '/'와'\\'는 결합된 원자들 간의 상대적인 위치를 나타내는 것으로, 이중결합으로 연결될 때에만 의미를 갖습니다.\n",
        "\n",
        ">**E,Z체계**<br>\n",
        "E(entgegon) : 반대편이라는 어원, 높은 우선순위를 갖는 탄소가 포함된 치환기가 이중결합의 **반대 위치**에 존재할 경우(≒trans-)<br>\n",
        "Z(zusammen) : 함께라는 어원, 높은 우선순위를 갖는 탄소가 포함된 치환기가 이중결합의 **같은 위치**에 존재할 경우(≒cis-)<br>\n",
        "Ex) E- and Z-1,2-dibromoethene\n"
      ]
    },
    {
      "cell_type": "code",
      "metadata": {
        "id": "U-rtmTbcPxVz",
        "colab_type": "code",
        "outputId": "bd7bb4c7-5ea7-4db1-84bf-d42669553278",
        "colab": {
          "base_uri": "https://localhost:8080/",
          "height": 167
        }
      },
      "source": [
        "E1 = Chem.MolFromSmiles('Br/C=C/Br') # 이중결합 왼쪽과 오른쪽의 슬래쉬가 방향이 같으면 E 방향입니다.\n",
        "E1"
      ],
      "execution_count": 0,
      "outputs": [
        {
          "output_type": "execute_result",
          "data": {
            "image/png": "[encoded data removed]",
            "text/plain": [
              "<rdkit.Chem.rdchem.Mol at 0x7fbc258a1170>"
            ]
          },
          "metadata": {
            "tags": []
          },
          "execution_count": 26
        }
      ]
    },
    {
      "cell_type": "code",
      "metadata": {
        "id": "WBc_FI-PRp4c",
        "colab_type": "code",
        "outputId": "7dfdb22f-adcc-4b01-95de-5cfed328831d",
        "colab": {
          "base_uri": "https://localhost:8080/",
          "height": 167
        }
      },
      "source": [
        "E2 = Chem.MolFromSmiles('Br/C=C\\Br') # 이중결합 왼쪽과 오른쪽의 슬래쉬가 방향이 반대면 Z 방향입니다.\n",
        "E2"
      ],
      "execution_count": 0,
      "outputs": [
        {
          "output_type": "execute_result",
          "data": {
            "image/png": "[encoded data removed]",
            "text/plain": [
              "<rdkit.Chem.rdchem.Mol at 0x7fbc258a13f0>"
            ]
          },
          "metadata": {
            "tags": []
          },
          "execution_count": 27
        }
      ]
    },
    {
      "cell_type": "markdown",
      "metadata": {
        "id": "4qlQzd96Rtmi",
        "colab_type": "text"
      },
      "source": [
        "- SMILES과 CIP의 카이랄표현의 차이점은 SMILES은 국부적인 카이랄성(local chirality)를 표현할 수 있다는 점입니다."
      ]
    },
    {
      "cell_type": "code",
      "metadata": {
        "id": "5DlVY-TERr5O",
        "colab_type": "code",
        "outputId": "afcb53fe-eb61-4d1b-b793-9349418e2c29",
        "colab": {
          "base_uri": "https://localhost:8080/",
          "height": 167
        }
      },
      "source": [
        "S1 = Chem.MolFromSmiles('Br/C=C/C=C/C')\n",
        "S1"
      ],
      "execution_count": 0,
      "outputs": [
        {
          "output_type": "execute_result",
          "data": {
            "image/png": "[encoded data removed]",
            "text/plain": [
              "<rdkit.Chem.rdchem.Mol at 0x7fbc258a1530>"
            ]
          },
          "metadata": {
            "tags": []
          },
          "execution_count": 28
        }
      ]
    },
    {
      "cell_type": "code",
      "metadata": {
        "id": "AWJ07_TKR1iI",
        "colab_type": "code",
        "outputId": "4ed33be1-54da-4e46-84da-6aa795e99fc4",
        "colab": {
          "base_uri": "https://localhost:8080/",
          "height": 167
        }
      },
      "source": [
        "S2 = Chem.MolFromSmiles('Br/C=C/C=CC')\n",
        "S2"
      ],
      "execution_count": 0,
      "outputs": [
        {
          "output_type": "execute_result",
          "data": {
            "image/png": "[encoded data removed]",
            "text/plain": [
              "<rdkit.Chem.rdchem.Mol at 0x7fbc258a1760>"
            ]
          },
          "metadata": {
            "tags": []
          },
          "execution_count": 29
        }
      ]
    },
    {
      "cell_type": "markdown",
      "metadata": {
        "id": "hHQbN2w8Y3xd",
        "colab_type": "text"
      },
      "source": [
        "### **4.3 사면체의 중심의 구조(Configuration Around Tetrahedral Centers)**\n",
        "* SMILES은 국부적 카이랄성을 기반으로한 가장 일반적인 형식의 명시법을 사용합니다.\n",
        "* SMILES에서 사면체의 중심은 카이랄 원자의 원자 기호에 카이랄이라는 명시(@ 혹은 @@)를 합니다. '@'는 이웃하는 원자들이 반시계로 표현되어 있다는 것을 의미하고 '@@'는 이웃하는 원자들이 시계로 표현되어 있다는 것을 의미합니다.\n",
        "* **카이랄성(Chirality):**<br>\n",
        "거울상에 포갤 수 없는 분자를 카이랄(chiral)이라 합니다.<br>\n",
        "같은 분자식이라 하여도 입체구조에 의해 서로 다른 화합물입니다. 이를 입체 이성질체라고 합니다. <br>\n",
        "카이랄성의 가장 일반적인 원인은 네 개의 서로 다른 치환기가 결합된 탄소에서 가장 많이 볼 수 있는 정사면체인 원자 때문입니다.<br>\n",
        "네 개의 서로 다른 치환기체가 결합된 탄소 원자는 두 개의 주요 대칭 요소가 없고 **카이랄 중심(chiral center)**라 불립니다.<br> Ex) 1-Bromo-1-chloro-1-fluoromethane : C에 -Cl, -H, -F, -Br이 결합된 카이랄 중심입니다.<br>\n",
        "![chiral](https://upload.wikimedia.org/wikipedia/commons/thumb/3/3c/Chiral.svg/300px-Chiral.svg.png)<br>\n",
        "(사진출처:위키피디아)\n",
        "\n",
        "* **카이랄 중심의 R or S 배열 결정**<BR> 카이랄 중심을 정하고 4개의 치환기를 확인한 후, 우선순위가 가장 높은 것(1)부터 가장 낮은 것(4)까지 번호를 배정합니다.\n",
        "\n",
        "    ```\n",
        "    우선순위\n",
        "    카이랄 중심에서 결합된 원자의 번호가 클수록 높은 우선순위 \n",
        "    -> 비교가 안된다면 두 번째 쌍을 살펴봅니다 \n",
        "    -> 이중 결합의 경우 결합과 같은 수만큼의 '가상'의 원자들이 단일 결합으로 취급\n",
        "    ```\n",
        "\n",
        "  가장 낮은 우선순위(4)를 갖는 치환기를 자동차의 운전대 기둥처럼 자신으로 부터 가장 멀리 위치하도록 분자를 배치합니다.<br>\n",
        "자신쪽으로 향하고 있는 세 개의 치환기들을 우선순위가 가장 높은(1)치환기 부터 우선순위가 가장 낮은(3) 치환기 순서대로 읽습니다.<br>\n",
        "치환기가 시계방향이면 배열을 R(라틴어 rectus,똑바른, 올바른); SMILES에선 @@, 반시계 방향이라면 S(라틴어 sinister, 왼쪽); SMILES에선 @로 합니다."
      ]
    },
    {
      "cell_type": "code",
      "metadata": {
        "id": "Pv5OTFoXZVeK",
        "colab_type": "code",
        "outputId": "c36d4dcc-92fd-4d5c-89af-edeb44fb0841",
        "colab": {
          "base_uri": "https://localhost:8080/",
          "height": 167
        }
      },
      "source": [
        "bS1 = Chem.MolFromSmiles('NC(C)(F)C(=O)O')\n",
        "S1"
      ],
      "execution_count": 0,
      "outputs": [
        {
          "output_type": "execute_result",
          "data": {
            "image/png": "[encoded data removed]",
            "text/plain": [
              "<rdkit.Chem.rdchem.Mol at 0x7fbc258a1530>"
            ]
          },
          "metadata": {
            "tags": []
          },
          "execution_count": 30
        }
      ]
    },
    {
      "cell_type": "code",
      "metadata": {
        "id": "hHbNm_t9ZYZM",
        "colab_type": "code",
        "outputId": "f33c8e24-b1b2-4797-c21f-91bb1bbfa2d0",
        "colab": {
          "base_uri": "https://localhost:8080/",
          "height": 167
        }
      },
      "source": [
        "m = Chem.MolFromSmiles('N[C@](C)(F)C(=O)O')\n",
        "m"
      ],
      "execution_count": 0,
      "outputs": [
        {
          "output_type": "execute_result",
          "data": {
            "image/png": "[encoded data removed]",
            "text/plain": [
              "<rdkit.Chem.rdchem.Mol at 0x7fbc258a19e0>"
            ]
          },
          "metadata": {
            "tags": []
          },
          "execution_count": 31
        }
      ]
    },
    {
      "cell_type": "code",
      "metadata": {
        "id": "3vkO9pW1Zcy6",
        "colab_type": "code",
        "outputId": "1a2e6ec7-565c-400e-e4bb-aa057db1cdf4",
        "colab": {
          "base_uri": "https://localhost:8080/",
          "height": 167
        }
      },
      "source": [
        "m = Chem.MolFromSmiles('N[C@@](F)(C)C(=O)O')\n",
        "m"
      ],
      "execution_count": 0,
      "outputs": [
        {
          "output_type": "execute_result",
          "data": {
            "image/png": "[encoded data removed]",
            "text/plain": [
              "<rdkit.Chem.rdchem.Mol at 0x7fbc258a1b70>"
            ]
          },
          "metadata": {
            "tags": []
          },
          "execution_count": 32
        }
      ]
    },
    {
      "cell_type": "code",
      "metadata": {
        "id": "OfMy41TSZpJr",
        "colab_type": "code",
        "outputId": "47feae24-d6ce-4025-9218-bb51c9380055",
        "colab": {
          "base_uri": "https://localhost:8080/",
          "height": 34
        }
      },
      "source": [
        "m.HasSubstructMatch(Chem.MolFromSmiles('F[C@](N)(C)C(=O)O'),useChirality=True) # 이 둘의 구조가 같은지 확인"
      ],
      "execution_count": 0,
      "outputs": [
        {
          "output_type": "execute_result",
          "data": {
            "text/plain": [
              "True"
            ]
          },
          "metadata": {
            "tags": []
          },
          "execution_count": 33
        }
      ]
    },
    {
      "cell_type": "markdown",
      "metadata": {
        "id": "GFgj8QtFR4MQ",
        "colab_type": "text"
      },
      "source": [
        "### **4.4 일반적인 카이랄 규칙(General Chiral Sepcification)**\n",
        "\n",
        "* 많은 종류의 카이랄성이 존재하며, '@'기호를 사용함으로써 카이랄을 나타냈습니다.\n",
        "* SMILES에서 사용하는 일반적 카이랄 규격은 3부분이 있습니다:\n",
        "  1. '@'기호\n",
        "  2. 잇따르는 두 글자의 카이랄 표시\n",
        "  3. 잇따르는 수치해석적인 카이랄 지정자\n",
        "* 가장 기초가 되는 카이랄 class는 각각의 degree(연결의 수)입니다.\n",
        "       4개의 연결에 기초가 되는 class는 사면체(TH)입니다.\n",
        "* 대부분의 경우 @1표시는 SMILES의 순서를 기준으로 한 축에 반시계 방향으로 @2표시는 시계방향을 의미합니다.\n",
        "* '@@'와 '@@@'는 각각 '@2','@3'와 같습니다.\n",
        "* 위에서 사용된 '@'와 '@@'는 '@TH1'과 '@TH2'를 간략하게 표현한 것입니다.\n",
        "* SMILES은 모든 범위에 관한 카이랄 규격을 다룹니다.('감소된 카이랄성', '퇴화된 카이랄성') 따라서 정확하게 알고 있는 모든 것을 보장하는 언어입니다.\n",
        "* 이 섹션의 마지막 부분에선 사면체, 알렌식(allen-like), 사각평면, trigonal-bypyramidal, octahedral의 카이랄성에 제한될 것입니다. 비록 많은 카이랄성은 위의 체계로 다룰 수 있겠지만, 이러한 5개의 클래스는 화학에서 매우 흔하고, 자주 다뤄지는 부분입다.\n",
        "\n",
        "* Tetrahedral:TH라는 기호로 표시되며, 4방위가 붙어있는 카이랄 클래스의 default입니다.\n",
        "\n",
        "* Allen-like:AL의 기호로 표시되며, 카이랄 중심이 이중결합으로 연결된 2개가 붙어있는 카이랄 클래스의 default입니다. 비록 C=C=C의 구조가 가장 흔하나, C=C=C=C=C 구조들도 또한 allen-like입니다. 이중결합된 원자가 일렬로 짝수개가 연결된 것입니다."
      ]
    },
    {
      "cell_type": "markdown",
      "metadata": {
        "id": "qFv0fCc0aNij",
        "colab_type": "text"
      },
      "source": [
        "![AL](http://www.daylight.com/dayhtml/doc/theory/theory18.gif) | ![substituted](http://www.daylight.com/dayhtml/doc/theory/theory19.gif)\n",
        "---- | ----\n",
        "OC(Cl)=$[C@]$=C(C)F | OC=$[C@]$=CF\n",
        "OC(Cl)=$[C@AL1]$=C(C)F | OC($[H]$)=$[C@AL1]$=C($[H]$)F"
      ]
    },
    {
      "cell_type": "code",
      "metadata": {
        "id": "KhDakmgbR2kW",
        "colab_type": "code",
        "outputId": "c1c3b095-e580-4b3d-f820-3fa1cc242703",
        "colab": {
          "base_uri": "https://localhost:8080/",
          "height": 34
        }
      },
      "source": [
        "m = Chem.MolFromSmiles('OC(Cl)=[C@]=C(C)F')\n",
        "m.HasSubstructMatch(Chem.MolFromSmiles('OC(Cl)=[C@@]=C(F)C'),useChirality=True) # 카이랄성이 일치하는지 확인"
      ],
      "execution_count": 0,
      "outputs": [
        {
          "output_type": "execute_result",
          "data": {
            "text/plain": [
              "True"
            ]
          },
          "metadata": {
            "tags": []
          },
          "execution_count": 34
        }
      ]
    },
    {
      "cell_type": "markdown",
      "metadata": {
        "id": "gGJ2ctc0aRhS",
        "colab_type": "text"
      },
      "source": [
        "* 사각평면 : SP 기호로 표시\n",
        "@SP1,@SP2, @SP3; 4방위가 연결된 카이랄 class의 default는 아니고, 줄이는 표현 또한 없습니다. 또한 시계와 반시계방향이 없는 점이 특징입니다.\n",
        "\n",
        "![SP](http://www.daylight.com/dayhtml/doc/theory/theory20.gif) | -\n",
        "---- | ----\n",
        "F$[Po@SP1]$(Cl)(Br)I | (SP1 lists in a \"U shape\")\n",
        "F$[Po@SP2]$(Br)(Cl)I | (SP2 lists in a \"4-shape\")\n",
        "F$[Po@SP3]$(Cl)(I)Br | (SP3 lists in a \"Z shape\")\n",
        "\n",
        "* Trigonal-bipyramidal:TB기호로 사용합니다. 5개의 방향의 카이랄 class의 default입니다.\n",
        "\n",
        "  ![TB](http://www.daylight.com/dayhtml/doc/theory/theory21.gif)\n",
        "\n",
        "  S$[As@@]$(F)(Cl)(Br)C=O<br>\n",
        "  O=C$[As@]$(F)(Cl)(Br)S<br>"
      ]
    },
    {
      "cell_type": "code",
      "metadata": {
        "id": "c9cCxAzbaaNM",
        "colab_type": "code",
        "outputId": "bf302b5e-134c-47b8-c32d-03f1a2f6049f",
        "colab": {
          "base_uri": "https://localhost:8080/",
          "height": 34
        }
      },
      "source": [
        "m = Chem.MolFromSmiles('S[As@@](F)(Cl)(Br)C=O')\n",
        "m.HasSubstructMatch(Chem.MolFromSmiles('O=C[As@](Cl)(Br)(F)S'),useChirality=True)"
      ],
      "execution_count": 0,
      "outputs": [
        {
          "output_type": "execute_result",
          "data": {
            "text/plain": [
              "True"
            ]
          },
          "metadata": {
            "tags": []
          },
          "execution_count": 35
        }
      ]
    },
    {
      "cell_type": "code",
      "metadata": {
        "id": "THnQ9KNRfZMK",
        "colab_type": "code",
        "outputId": "532203e9-57d0-495a-f5a9-c2ed826cb621",
        "colab": {
          "base_uri": "https://localhost:8080/",
          "height": 34
        }
      },
      "source": [
        "m.HasSubstructMatch(Chem.MolFromSmiles('O=C[As@](F)(Cl)(Br)S'),useChirality=True)"
      ],
      "execution_count": 0,
      "outputs": [
        {
          "output_type": "execute_result",
          "data": {
            "text/plain": [
              "True"
            ]
          },
          "metadata": {
            "tags": []
          },
          "execution_count": 36
        }
      ]
    },
    {
      "cell_type": "markdown",
      "metadata": {
        "id": "dZOlmwQUfeDV",
        "colab_type": "text"
      },
      "source": [
        "* *Octahedral* : OH기호로 사용. 6개의 방향의 카이랄 class의 default입니다.\n",
        ">가능한 값은 @OH1~ @OH2 : @OH1(or @)는 한 개의 축이 다른 것과 연결을 SMILE에 의해 나열될 때, 4개의 중간, 수평적으로 연결된 원자들을 시계방향으로 나열시킨 것.<br>@OH2(or @@)는 시계방향\n",
        "</br>![OH](http://www.daylight.com/dayhtml/doc/theory/theory22.gif)\n"
      ]
    },
    {
      "cell_type": "markdown",
      "metadata": {
        "id": "O4KTjoqtblc4",
        "colab_type": "text"
      },
      "source": [
        "## **5. SMILES의 관례(MILES Convention)**\n",
        "\n",
        "\n",
        "\n",
        "### **5.1 Hydrogens**\n",
        "\n",
        "수소 원자는 대부분 생략됩니다.\n",
        "일반적으로 3가지 방법으로 수소 원자를 표시합니다.\n",
        " - 암시적 표시 : '[',     ']' 으로 표시되지 않은 원자가 원소들\n",
        " - 명확한 표시 : '[',     ']' 안에 정확한 갯수와 함께 표시\n",
        " - 하나의 수소 원자 : [H]\n",
        " \n",
        "그리고 반드시 수소원자를 명확히 표시해야할 때가 있습니다.\n",
        " - 전하를 띄는 수소 : [H+]\n",
        " - 수소 분자 : [H][H]\n",
        " - 하나 이상의 다른 원자에 연결된 수소 : bridging hydrogens\n",
        " - 동위원소 수소  : heavy water [2H]O[2H]\n"
      ]
    },
    {
      "cell_type": "code",
      "metadata": {
        "id": "_PDjb-AnbmiW",
        "colab_type": "code",
        "outputId": "3f0654b7-aea2-4537-de20-5bdaa2c0933c",
        "colab": {
          "base_uri": "https://localhost:8080/",
          "height": 184
        }
      },
      "source": [
        "m = Chem.MolFromSmiles('[H+]')\n",
        "m"
      ],
      "execution_count": 0,
      "outputs": [
        {
          "output_type": "stream",
          "text": [
            "RDKit WARNING: [10:53:40] WARNING: not removing hydrogen atom without neighbors\n"
          ],
          "name": "stderr"
        },
        {
          "output_type": "execute_result",
          "data": {
            "image/png": "[encoded data removed]",
            "text/plain": [
              "<rdkit.Chem.rdchem.Mol at 0x7fbc258a8440>"
            ]
          },
          "metadata": {
            "tags": []
          },
          "execution_count": 37
        }
      ]
    },
    {
      "cell_type": "code",
      "metadata": {
        "id": "WtXT5v4ybn96",
        "colab_type": "code",
        "outputId": "42ce7563-71ef-4595-8d50-7b6c12de9564",
        "colab": {
          "base_uri": "https://localhost:8080/",
          "height": 167
        }
      },
      "source": [
        "heavywater = Chem.MolFromSmiles('[2H]O[2H]')\n",
        "heavywater"
      ],
      "execution_count": 0,
      "outputs": [
        {
          "output_type": "execute_result",
          "data": {
            "image/png": "[encoded data removed]",
            "text/plain": [
              "<rdkit.Chem.rdchem.Mol at 0x7fbc258a8530>"
            ]
          },
          "metadata": {
            "tags": []
          },
          "execution_count": 38
        }
      ]
    },
    {
      "cell_type": "markdown",
      "metadata": {
        "id": "XK1qEt7xcS2B",
        "colab_type": "text"
      },
      "source": [
        "### 5.2  **방향족(Aromaticity)**\n",
        "\n",
        "- 분자의 대칭성을 특징짓기 위해서 SMILES 같은 시스템에서 명확한 명명법을 생성할 수 있어야합니다. <br>\n",
        "- 정확한 방향족 판단 알고리즘이 있는 경우에, 사용자가 지방족 구조를 입력하고 싶을때 방향족 구조식으로 입력할 필요가 없습니다.<br>\n",
        "- 원하는 화합물을 짧게 명시할 수 있다.\n",
        "\n",
        "SMILES은 Hueckel 규칙의 확장 된 버전을 사용하여 방향족 분자와 이온을 식별합니다.\n",
        "\n",
        "> Hueckel's Rule\n",
        "> 1. 분자는 고리를 가져야합니다.\n",
        "> 2. 고리의 모든 원자는 같은 평면에 있어야합니다.\n",
        "> 3. 고리의 모든 원자는 **fully conjugated** 이어야합니다.(모든 원자가 p 오비탈을 가진다.)\n",
        "> 4. 분자는 (4n+2)개의 $\\pi$ 전자를 가집니다. ( n은 0 보다 크거나 같은 정수 ) <br>\n",
        "=> 4번만 만족하지 않는 화합물을 **antiaromatic** 이라고 합니다.\n",
        "\n"
      ]
    },
    {
      "cell_type": "code",
      "metadata": {
        "id": "a0STVWKObpOr",
        "colab_type": "code",
        "outputId": "6aa4a156-a2f1-4c75-e770-c5530c9436ad",
        "colab": {
          "base_uri": "https://localhost:8080/",
          "height": 167
        }
      },
      "source": [
        "H = Chem.MolFromSmiles('c1ccccc1') # Aromatic\n",
        "H"
      ],
      "execution_count": 0,
      "outputs": [
        {
          "output_type": "execute_result",
          "data": {
            "image/png": "[encoded data removed]",
            "text/plain": [
              "<rdkit.Chem.rdchem.Mol at 0x7fbc258a8350>"
            ]
          },
          "metadata": {
            "tags": []
          },
          "execution_count": 39
        }
      ]
    },
    {
      "cell_type": "code",
      "metadata": {
        "id": "6XwnTb_LcWYR",
        "colab_type": "code",
        "outputId": "7faf8c61-d592-419b-8cae-470c77ba6aa5",
        "colab": {
          "base_uri": "https://localhost:8080/",
          "height": 167
        }
      },
      "source": [
        "H = Chem.MolFromSmiles('c1ccc1') # Aromatic\n",
        "H"
      ],
      "execution_count": 0,
      "outputs": [
        {
          "output_type": "execute_result",
          "data": {
            "image/png": "[encoded data removed]",
            "text/plain": [
              "<rdkit.Chem.rdchem.Mol at 0x7fbc258a8490>"
            ]
          },
          "metadata": {
            "tags": []
          },
          "execution_count": 40
        }
      ]
    },
    {
      "cell_type": "code",
      "metadata": {
        "id": "TFJHqB5GcYXG",
        "colab_type": "code",
        "outputId": "a6d64640-1682-444e-ba5c-ff2cf94b1791",
        "colab": {
          "base_uri": "https://localhost:8080/",
          "height": 167
        }
      },
      "source": [
        "K = Chem.MolFromSmiles('C1=CC=CC=C1') # Aliphatic\n",
        "K"
      ],
      "execution_count": 0,
      "outputs": [
        {
          "output_type": "execute_result",
          "data": {
            "image/png": "[encoded data removed]",
            "text/plain": [
              "<rdkit.Chem.rdchem.Mol at 0x7fbc258a8800>"
            ]
          },
          "metadata": {
            "tags": []
          },
          "execution_count": 41
        }
      ]
    }
  ]
}