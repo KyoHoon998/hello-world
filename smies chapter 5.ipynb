{
  "nbformat": 4,
  "nbformat_minor": 0,
  "metadata": {
    "colab": {
      "name": "Untitled37.ipynb",
      "provenance": []
    },
    "kernelspec": {
      "name": "python3",
      "display_name": "Python 3"
    },
    "accelerator": "GPU"
  },
  "cells": [
    {
      "cell_type": "code",
      "metadata": {
        "id": "u9141pj-lh8C",
        "colab_type": "code",
        "colab": {}
      },
      "source": [
        "!wget -c https://repo.continuum.io/miniconda/Miniconda3-latest-Linux-x86_64.sh\n",
        "!chmod +x Miniconda3-latest-Linux-x86_64.sh\n",
        "!time bash ./Miniconda3-latest-Linux-x86_64.sh -b -f -p /usr/local\n",
        "!time conda install -q -y -c conda-forge rdkit"
      ],
      "execution_count": 0,
      "outputs": []
    },
    {
      "cell_type": "code",
      "metadata": {
        "id": "Npo7PC8wvyGE",
        "colab_type": "code",
        "colab": {}
      },
      "source": [
        "%matplotlib inline\n",
        "import matplotlib.pyplot as plt\n",
        "import sys\n",
        "import os\n",
        "sys.path.append('/usr/local/lib/python3.7/site-packages/')\n"
      ],
      "execution_count": 0,
      "outputs": []
    },
    {
      "cell_type": "markdown",
      "metadata": {
        "id": "Y9MSxnyUTXA-",
        "colab_type": "text"
      },
      "source": [
        "##5.Extensions for Reactions(>)\n",
        "\n",
        "> 반응식의 SMILES 언어 <br>\n",
        "`Reactant` > `Agent` > `Product`<br>\n",
        "`Reactant` >> `Product`<br>\n",
        "아래의 예시는 하나의 같은 반응을 의미합니다.\n",
        "\n",
        "* C=CCBr >> C=CCI <br>\n",
        "* [I-].[Na+].C=CCBr >> [Na+].[Br-].C=CCI <br>\n",
        "* C=CCBr.[Na+].[I-] > CC(=O)C > C=CCI.[Na+].[Br-] <br>\n",
        "\n",
        "그러나 이 반응에서 어느 위치의 `C`에 반응하는지 알 수 없습니다. 때문에 `Atom Maps`가 필요합니다.\n",
        "\n",
        "![ReactionsNoMaps](http://www.daylight.com/dayhtml/doc/theory/disp.gif)"
      ]
    },
    {
      "cell_type": "code",
      "metadata": {
        "id": "6qOcNVFsu8bu",
        "colab_type": "code",
        "colab": {}
      },
      "source": [
        "#RDkit 적용\n",
        "from __future__ import print_function #2.X대 python호환을 위해\n",
        "from rdkit import Chem\n",
        "from rdkit.Chem import AllChem\n",
        "from rdkit.Chem.Draw import IPythonConsole\n",
        "from rdkit.Chem import Draw\n"
      ],
      "execution_count": 0,
      "outputs": []
    },
    {
      "cell_type": "code",
      "metadata": {
        "id": "uqjpbsBqvkS6",
        "colab_type": "code",
        "colab": {
          "base_uri": "https://localhost:8080/",
          "height": 167
        },
        "outputId": "ae8acf6f-4d8a-4a6b-b8da-b98fd0753206"
      },
      "source": [
        "rxn = AllChem.ReactionFromSmarts('C=CCBr>>C=CCI')\n",
        "rxn"
      ],
      "execution_count": 10,
      "outputs": [
        {
          "output_type": "execute_result",
          "data": {
            "image/png": "[encoded data removed]",
            "text/plain": [
              "<rdkit.Chem.rdChemReactions.ChemicalReaction at 0x7fd8b4a88760>"
            ]
          },
          "metadata": {
            "tags": []
          },
          "execution_count": 10
        }
      ]
    },
    {
      "cell_type": "code",
      "metadata": {
        "id": "S541dEI4TlWS",
        "colab_type": "code",
        "colab": {
          "base_uri": "https://localhost:8080/",
          "height": 187
        },
        "outputId": "c1e43c36-4c83-49ff-bf58-c0eeb55e6de1"
      },
      "source": [
        "rxn = AllChem.ReactionFromSmarts('[I-].[Na+].C=CCBr >> [Na+].[Br-].C=CCI ')\n",
        "rxn"
      ],
      "execution_count": 11,
      "outputs": [
        {
          "output_type": "execute_result",
          "data": {
            "image/png": "[encoded data removed]",
            "text/plain": [
              "<rdkit.Chem.rdChemReactions.ChemicalReaction at 0x7fd8b4ad9800>"
            ]
          },
          "metadata": {
            "tags": []
          },
          "execution_count": 11
        }
      ]
    },
    {
      "cell_type": "code",
      "metadata": {
        "id": "xJSD8ldgTmaf",
        "colab_type": "code",
        "colab": {
          "base_uri": "https://localhost:8080/",
          "height": 187
        },
        "outputId": "4002713b-666a-44f0-b13c-51ae42b91b68"
      },
      "source": [
        "rxn = AllChem.ReactionFromSmarts('C=CCBr.[Na+].[I-] > CC(=O)C > C=CCI.[Na+].[Br-] ')\n",
        "rxn"
      ],
      "execution_count": 12,
      "outputs": [
        {
          "output_type": "execute_result",
          "data": {
            "image/png": "[encoded data removed]",
            "text/plain": [
              "<rdkit.Chem.rdChemReactions.ChemicalReaction at 0x7fd8b4ad98a0>"
            ]
          },
          "metadata": {
            "tags": []
          },
          "execution_count": 12
        }
      ]
    },
    {
      "cell_type": "markdown",
      "metadata": {
        "id": "Oeje-Ml4UFV4",
        "colab_type": "text"
      },
      "source": [
        "## 5.1 Reaction Atom Maps\n",
        "\n",
        "> `Atom Map`은 컴퓨터가 반응물과 생성물사이의 같은 원자임을 알 수 있게 명확하게 표현해주는 방법입니다.\n",
        "\n",
        "* 원하는 원자의 뒤에 `:`와 숫자를 이용해 표시합니다. ( `[CH3:2]` 는 `H`를 3개 가지고 있는 탄소에 2번을 부여함을 의미합니다.  )\n",
        "* 부여한 숫자는 추가적인 성질을 나타내지 않습니다. 단지 구분짓기 위함입니다. ( 단, 모든 원자에 같은 숫자를 부여할 경우는 제외. )"
      ]
    },
    {
      "cell_type": "code",
      "metadata": {
        "id": "CK7bd21wTnrz",
        "colab_type": "code",
        "colab": {
          "base_uri": "https://localhost:8080/",
          "height": 167
        },
        "outputId": "6428a5d4-2f98-4545-cb96-c7b08ac1810e"
      },
      "source": [
        "#Smarts로 표기\n",
        "mol = AllChem.MolFromSmarts('C=CCCC(C)C')  # [CH2]=[CH][CH2][CH2][C](C)[CH2]\n",
        "mol"
      ],
      "execution_count": 13,
      "outputs": [
        {
          "output_type": "execute_result",
          "data": {
            "image/png": "[encoded data removed]",
            "text/plain": [
              "<rdkit.Chem.rdchem.Mol at 0x7fd8b4ad97b0>"
            ]
          },
          "metadata": {
            "tags": []
          },
          "execution_count": 13
        }
      ]
    },
    {
      "cell_type": "code",
      "metadata": {
        "id": "hlfeYzEIVWKS",
        "colab_type": "code",
        "colab": {
          "base_uri": "https://localhost:8080/",
          "height": 167
        },
        "outputId": "05fa8a19-b2e3-4bc9-f129-abe8c1a5b004"
      },
      "source": [
        "mol = AllChem.MolFromSmiles('C=CCCC(C)C')  # [CH2]=[CH][CH2][CH2][C](C)[CH2]\n",
        "mol"
      ],
      "execution_count": 14,
      "outputs": [
        {
          "output_type": "execute_result",
          "data": {
            "image/png": "[encoded data removed]",
            "text/plain": [
              "<rdkit.Chem.rdchem.Mol at 0x7fd8b4ad99e0>"
            ]
          },
          "metadata": {
            "tags": []
          },
          "execution_count": 14
        }
      ]
    },
    {
      "cell_type": "code",
      "metadata": {
        "id": "xRt1g9HzVXxr",
        "colab_type": "code",
        "colab": {
          "base_uri": "https://localhost:8080/",
          "height": 167
        },
        "outputId": "4534170f-8d7f-4fe7-9837-c2d8e107cafd"
      },
      "source": [
        "mol = AllChem.MolFromSmarts('[CH2:1]=[CH:2][CH2:1][CH2:3][C:4](C)[CH2:3]')\n",
        "mol"
      ],
      "execution_count": 15,
      "outputs": [
        {
          "output_type": "execute_result",
          "data": {
            "image/png": "[encoded data removed]",
            "text/plain": [
              "<rdkit.Chem.rdchem.Mol at 0x7fd8b4ad9a80>"
            ]
          },
          "metadata": {
            "tags": []
          },
          "execution_count": 15
        }
      ]
    },
    {
      "cell_type": "code",
      "metadata": {
        "id": "W2XwUUgwVYsF",
        "colab_type": "code",
        "colab": {
          "base_uri": "https://localhost:8080/",
          "height": 167
        },
        "outputId": "5d4efcbe-06ab-47b2-9ee5-19fd0a1e0883"
      },
      "source": [
        "mol = AllChem.MolFromSmiles('[CH2:1]=[CH:2][CH2:1][CH2:3][C:4](C)[CH2:3]')\n",
        "mol"
      ],
      "execution_count": 16,
      "outputs": [
        {
          "output_type": "execute_result",
          "data": {
            "image/png": "[encoded data removed]",
            "text/plain": [
              "<rdkit.Chem.rdchem.Mol at 0x7fd8b4ad9710>"
            ]
          },
          "metadata": {
            "tags": []
          },
          "execution_count": 16
        }
      ]
    },
    {
      "cell_type": "code",
      "metadata": {
        "id": "omsGY6-zVa_T",
        "colab_type": "code",
        "colab": {
          "base_uri": "https://localhost:8080/",
          "height": 167
        },
        "outputId": "6e436faf-89e4-4d9a-d927-a5ac89013fbf"
      },
      "source": [
        "mol = AllChem.MolFromSmarts('[CH2:1]=[CH:1][CH2:1][CH2:1][C:1](C)[CH2:1]')\n",
        "mol"
      ],
      "execution_count": 17,
      "outputs": [
        {
          "output_type": "execute_result",
          "data": {
            "image/png": "[encoded data removed]",
            "text/plain": [
              "<rdkit.Chem.rdchem.Mol at 0x7fd8b4ad9bc0>"
            ]
          },
          "metadata": {
            "tags": []
          },
          "execution_count": 17
        }
      ]
    },
    {
      "cell_type": "code",
      "metadata": {
        "id": "gUkgn_InVcIX",
        "colab_type": "code",
        "colab": {
          "base_uri": "https://localhost:8080/",
          "height": 167
        },
        "outputId": "5b1fad33-2764-4148-db38-55c69b4bb171"
      },
      "source": [
        "mol = AllChem.MolFromSmiles('[CH2:1]=[CH:1][CH2:1][CH2:1][C:1](C)[CH2:1]')\n",
        "mol"
      ],
      "execution_count": 18,
      "outputs": [
        {
          "output_type": "execute_result",
          "data": {
            "image/png": "[encoded data removed]",
            "text/plain": [
              "<rdkit.Chem.rdchem.Mol at 0x7fd8b4ae8080>"
            ]
          },
          "metadata": {
            "tags": []
          },
          "execution_count": 18
        }
      ]
    },
    {
      "cell_type": "markdown",
      "metadata": {
        "id": "UCgz6N8gVexK",
        "colab_type": "text"
      },
      "source": [
        "## Atom Map은 유일하거나 완전하지 않습니다.\n",
        "\n",
        "1. 반응이 일어날 때, 분자에 결합을 표현하는데 한계가 있습니다. <br>\n",
        "예를들어 *Sodium Acetate* ( `CC(=O)[O-].[Na+]` ) 속의 산소원자를 화학적으로 구분할 수 없는데, *toolkit* 은 구별해주어야합니다.<br>\n",
        "몇몇 시스템은 이런 동등함을 인정하는데, 이러한 경우에  같은 숫자로  `Mapping`합니다. ( `[CH3:1][C:2](=[O:3])[O-:3].[Na+:4]` )"
      ]
    },
    {
      "cell_type": "code",
      "metadata": {
        "id": "R6ir7g5QVc4M",
        "colab_type": "code",
        "colab": {
          "base_uri": "https://localhost:8080/",
          "height": 167
        },
        "outputId": "3a544e20-a3de-4af4-c1ac-e065e0563a71"
      },
      "source": [
        "mol = AllChem.MolFromSmarts('CC(=O)[O-].[Na+]')\n",
        "mol"
      ],
      "execution_count": 19,
      "outputs": [
        {
          "output_type": "execute_result",
          "data": {
            "image/png": "[encoded data removed]",
            "text/plain": [
              "<rdkit.Chem.rdchem.Mol at 0x7fd8b4ae8170>"
            ]
          },
          "metadata": {
            "tags": []
          },
          "execution_count": 19
        }
      ]
    },
    {
      "cell_type": "code",
      "metadata": {
        "id": "lXgB_0iHW7Wm",
        "colab_type": "code",
        "colab": {
          "base_uri": "https://localhost:8080/",
          "height": 167
        },
        "outputId": "60b2b6ea-2f56-4d8f-8c5a-5fa47bd64297"
      },
      "source": [
        "mol = AllChem.MolFromSmiles('CC(=O)[O-].[Na+]')\n",
        "mol"
      ],
      "execution_count": 20,
      "outputs": [
        {
          "output_type": "execute_result",
          "data": {
            "image/png": "[encoded data removed]",
            "text/plain": [
              "<rdkit.Chem.rdchem.Mol at 0x7fd8b4ae83a0>"
            ]
          },
          "metadata": {
            "tags": []
          },
          "execution_count": 20
        }
      ]
    },
    {
      "cell_type": "code",
      "metadata": {
        "id": "fhC2SBmMW8KP",
        "colab_type": "code",
        "colab": {
          "base_uri": "https://localhost:8080/",
          "height": 167
        },
        "outputId": "30f3adf6-bf77-495e-a958-e05dd6adbfb9"
      },
      "source": [
        "rxn = AllChem.ReactionFromSmarts('CC(=O)[O-].[Na+]>[H]Cl>CC(=O)O')\n",
        "rxn"
      ],
      "execution_count": 21,
      "outputs": [
        {
          "output_type": "execute_result",
          "data": {
            "image/png": "[encoded data removed]",
            "text/plain": [
              "<rdkit.Chem.rdChemReactions.ChemicalReaction at 0x7fd8b4ae8440>"
            ]
          },
          "metadata": {
            "tags": []
          },
          "execution_count": 21
        }
      ]
    },
    {
      "cell_type": "code",
      "metadata": {
        "id": "h39QV9XcW_cv",
        "colab_type": "code",
        "colab": {
          "base_uri": "https://localhost:8080/",
          "height": 167
        },
        "outputId": "ad6dbdd7-6ff7-40d8-afb7-4a4847d48fbf"
      },
      "source": [
        "rxn = AllChem.ReactionFromSmarts('[CH3:1][C:2](=[O:3])[O-:5].[Na+:4]>[H]Cl>[CH3:1][C:2](=[O:3])[OH:5]')\n",
        "rxn"
      ],
      "execution_count": 22,
      "outputs": [
        {
          "output_type": "execute_result",
          "data": {
            "image/png": "[encoded data removed]",
            "text/plain": [
              "<rdkit.Chem.rdChemReactions.ChemicalReaction at 0x7fd8b4ae82b0>"
            ]
          },
          "metadata": {
            "tags": []
          },
          "execution_count": 22
        }
      ]
    },
    {
      "cell_type": "code",
      "metadata": {
        "id": "NhXEHXRuXA_r",
        "colab_type": "code",
        "colab": {
          "base_uri": "https://localhost:8080/",
          "height": 167
        },
        "outputId": "32c90fc3-e1ae-4585-96d6-da513eafa07a"
      },
      "source": [
        "rxn = AllChem.ReactionFromSmarts('[CH3:1][C:2](=[O:3])[O-:5].[Na+:4]>[H]Cl>[CH3:1][C:2](=[O:5])[OH:3]')\n",
        "rxn"
      ],
      "execution_count": 23,
      "outputs": [
        {
          "output_type": "execute_result",
          "data": {
            "image/png": "[encoded data removed]",
            "text/plain": [
              "<rdkit.Chem.rdChemReactions.ChemicalReaction at 0x7fd8b4ae84e0>"
            ]
          },
          "metadata": {
            "tags": []
          },
          "execution_count": 23
        }
      ]
    },
    {
      "cell_type": "markdown",
      "metadata": {
        "id": "zu2VQIp3XFWk",
        "colab_type": "text"
      },
      "source": [
        "2. 반응매커니즘이 애매할 때 (예를들어)<br> ![secondcase](http://www.daylight.com/dayhtml/doc/theory/cope.gif) <br>\n",
        "이 경우 실제로는 두가지의 다른 반응 매커니즘이 있지만,  `[CH2:1]=[CH:2][CH2:1][CH2:3][C:4](C)[CH2:3]`으로 표현해줍니다."
      ]
    },
    {
      "cell_type": "markdown",
      "metadata": {
        "id": "TKKXhHABXS78",
        "colab_type": "text"
      },
      "source": [
        "3. 반응에 대한 정보가 부족한 경우. <br>\n",
        "확실한 정보에 대해서 부분적으로만 `Mapping`합니다. 절대로 모르는 반응에 입력하려하면 안 됍니다.<br>\n",
        "`Atom Map`은 `unique SMILES`에서 나타나지않습니다. <br>\n",
        "4. `Atom Map`은 어떤 의미도 가지지않는 숫자일 뿐입니다.\n",
        "\n"
      ]
    },
    {
      "cell_type": "markdown",
      "metadata": {
        "id": "tNI8O7s5XvtN",
        "colab_type": "text"
      },
      "source": [
        "## 5.2 Hydrogens\n",
        "\n",
        "> 수소는 특별한 경우가 아니면 분자안에 숨어있습니다. 전하를 띄거나, 동위원소, 다른 수소와 결합, 다중결합을 하는 특별한 경우에 수소의 `atom map`이 필요하며, 이를 입력하면 수소를 `special`로 간주합니다."
      ]
    },
    {
      "cell_type": "code",
      "metadata": {
        "id": "hcLnG2cnXu49",
        "colab_type": "code",
        "colab": {
          "base_uri": "https://localhost:8080/",
          "height": 167
        },
        "outputId": "d9ae2bf0-4d9d-4bcc-967a-4defdd7bd521"
      },
      "source": [
        "mol = AllChem.MolFromSmarts('[H:1][H:2]')\n",
        "mol"
      ],
      "execution_count": 24,
      "outputs": [
        {
          "output_type": "execute_result",
          "data": {
            "image/png": "[encoded data removed]",
            "text/plain": [
              "<rdkit.Chem.rdchem.Mol at 0x7fd8b4ae9da0>"
            ]
          },
          "metadata": {
            "tags": []
          },
          "execution_count": 24
        }
      ]
    },
    {
      "cell_type": "code",
      "metadata": {
        "id": "YAn3MqwsX51t",
        "colab_type": "code",
        "colab": {}
      },
      "source": [
        ""
      ],
      "execution_count": 0,
      "outputs": []
    }
  ]
}