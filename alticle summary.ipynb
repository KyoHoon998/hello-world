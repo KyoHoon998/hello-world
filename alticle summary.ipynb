{
  "nbformat": 4,
  "nbformat_minor": 0,
  "metadata": {
    "colab": {
      "name": "Untitled41.ipynb",
      "provenance": [],
      "include_colab_link": true
    },
    "kernelspec": {
      "name": "python3",
      "display_name": "Python 3"
    }
  },
  "cells": [
    {
      "cell_type": "markdown",
      "metadata": {
        "id": "view-in-github",
        "colab_type": "text"
      },
      "source": [
        "<a href=\"https://colab.research.google.com/github/KyoHoon998/hello-world/blob/master/alticle%20summary.ipynb\" target=\"_parent\"><img src=\"https://colab.research.google.com/assets/colab-badge.svg\" alt=\"Open In Colab\"/></a>"
      ]
    },
    {
      "cell_type": "markdown",
      "metadata": {
        "id": "9-XLTB5Gohc2",
        "colab_type": "text"
      },
      "source": [
        "오늘날 약의 발견은 전문적 지식이나 비싼 biologycal 실험이 필요.\n",
        "자동으로 분자화학적 특성을 알려주는 지도학습 머신러닝 알고리즘이 발전해왔지만 제한적인 훈련데이터 때문에 좋은 성능을 보이지 못 함. \n",
        "이 논문에서 우리는 새로운 비지도 molecular embedding method 를 제안한다. 지속적으로 feature vector 를 제공하는.\n",
        "\n",
        "최근 drug discovery community 에서 제일 관심있는 것은 [3,5,27,35] 인데 머신러닝알고리즘의 대다수는 feature 벡터들의 입력의 길이가 [55-57] 로 고정되어있다.\n",
        "그리고 분자의 성질은 분자를 고정된 길이의 벡터로 나타내는것을 어렵게한다.\n",
        "\n",
        "전통적으로 분자를 재현하는 새로운 고정된 길이의 벡터를 디자인하는것을 fingerprints 라고한다. 이것은 데이터 기반이 아니며, 인간의 전문지식에 기반한다. 현재까지 지도학습에 의한 fingerprints 는 이것저것 문제가 많았음.\n",
        "\n",
        "그래서 이 논문에서는 seq2seq fingerprint 라는 데이터에 기반한 비지도학습 딥려닝 fingerprint 방법을 제안한다. 이거는 기존의 fingerprints 의 문제를 극복하는데 \n",
        "<br>\n",
        "\n",
        "1) 데이터 기반이며 인간의 전문적 지식을 필요로 하지 않음<br>\n",
        "2) fingerprint vector 로 인코딩 된 정보의 충분 성을 보장하면서 원래의 분자 표현으로 완전히 되돌릴 수 있습니다.<br>\n",
        "3)거대한 라벨되어있지않은 데이터 셋으로 비지도학습한것은 엄청난 마력을 방출함.<br> \n",
        "\n",
        "seq2seq learning 의 인풋과 아웃풋을 같은 Smile string 으로 설정함. 이때 Smile string 을 fixed-sized vector 가 원래의 Smile string 으로 번역해주는데 그게 바로 seq2seq fingerprint 임.\n",
        "\n",
        "\n",
        "seq2seq fingerprint 의 장점\n",
        "\n",
        "* 필요로하는 훈련데이터가 label-free 임.\n",
        "* 데이터 기반이기때문에 전문가의 지식따윈 필요없음\n",
        "* unlabel data로 훈련 제한이 없고, 그냥 엄청 많이 deep learning 시킬수있음.\n",
        "\n",
        "\n",
        "\n",
        "seq2seq fingerprint 의 기술적 기여도\n",
        "\n",
        "1) 관련이없어보이는 seq2seq learning method 와 약물 발견 업무를 이어주는 첫번째 시도임.<br>\n",
        "2) 몇몇 중요한 adaptation.\n",
        "* lstm 대신 GRU를 사용함. (가속하기위해)\n",
        "* fingerprint 공간을 집중하기위해 Attention Mechanism 이 사용됌\n",
        "* 과적합을 극복하기위해 Dropout 층 사용\n",
        "* An extra fingerprint extraction layer set is added to pull\n",
        "the fingerprint out 이건 뭔말인지 모르겠음\n",
        "\n"
      ]
    }
  ]
}